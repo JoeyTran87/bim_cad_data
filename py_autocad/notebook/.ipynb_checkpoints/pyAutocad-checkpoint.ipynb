{
 "cells": [
  {
   "cell_type": "code",
   "execution_count": 1,
   "id": "4779bfaa-d885-4e02-ad7a-35f5642f594c",
   "metadata": {
    "tags": []
   },
   "outputs": [
    {
     "name": "stdout",
     "output_type": "stream",
     "text": [
      "Hello\n"
     ]
    }
   ],
   "source": [
    "import pyautocad\n",
    "from pyautocad import Autocad, APoint,aDouble, ACAD\n",
    "import testPyAutocad\n",
    "from testPyAutocad import *\n",
    "sayhello()\n",
    "\n"
   ]
  },
  {
   "cell_type": "code",
   "execution_count": 2,
   "id": "b4bd16e3-c06b-4687-8a37-6846c6807e21",
   "metadata": {},
   "outputs": [],
   "source": [
    "import array\n",
    "# help(array.array)"
   ]
  },
  {
   "cell_type": "code",
   "execution_count": 3,
   "id": "deb4a655-2eae-4e85-acd8-73a5cdfa8d94",
   "metadata": {},
   "outputs": [
    {
     "name": "stdout",
     "output_type": "stream",
     "text": [
      "Hello, Autocad from Python\n",
      "\n"
     ]
    },
    {
     "data": {
      "text/plain": [
       "'Drawing1.dwg'"
      ]
     },
     "execution_count": 3,
     "metadata": {},
     "output_type": "execute_result"
    }
   ],
   "source": [
    "# https://pyautocad.readthedocs.io/en/latest/usage.html\n",
    "acad = Autocad()\n",
    "# acad = Autocad(create_if_not_exists=True)\n",
    "acad.prompt(\"Hello, Autocad from Python\\n\")\n",
    "acad.doc.Name"
   ]
  },
  {
   "cell_type": "code",
   "execution_count": 4,
   "id": "458e8726-b595-4c2f-8ae7-4d471a131de3",
   "metadata": {
    "tags": []
   },
   "outputs": [],
   "source": [
    "p1 = APoint(0, 0) # point có the cong tru nhan chia\n",
    "p2 = APoint(50, 25)\n",
    "point = acad.model.AddPoint(p2)\n",
    "line = acad.model.AddLine(p1, p2)\n",
    "\n",
    "# PLAY NHÌU LẦN SẼ VẼ NHÌU LẦN"
   ]
  },
  {
   "cell_type": "code",
   "execution_count": 5,
   "id": "74ee2bfd-4598-4bc1-b95c-32389997417c",
   "metadata": {
    "tags": []
   },
   "outputs": [],
   "source": [
    "for i in range(5):\n",
    "    text = acad.model.AddText('Hi %s!' % i, p1, 2.5) # TEXT\n",
    "    acad.model.AddLine(p1, p2) #LINE\n",
    "    acad.model.AddCircle(p1, 10) # CIRCLE\n",
    "    p1.y += 10"
   ]
  },
  {
   "cell_type": "code",
   "execution_count": 6,
   "id": "14d7c919-2f42-4ca1-a45f-9446ddde9ae4",
   "metadata": {
    "tags": []
   },
   "outputs": [],
   "source": [
    "# #check layer & all property of element\n",
    "# print(\"Current layer:\",str(line.Layer))\n",
    "# print(\"Linetype:\",str(line.Linetype))\n",
    "# print(\"LinetypeScale:\",str(line.LinetypeScale))\n",
    "# print(\"Lineweight:\",str(line.Lineweight))\n",
    "# print(\"Thickness:\",str(line.Thickness))\n",
    "# print(\"Material:\",str(line.Material))\n",
    "# # line.Layer = \"0\""
   ]
  },
  {
   "cell_type": "code",
   "execution_count": 7,
   "id": "072f3c0d-6f27-4317-a2e4-e1b269afe918",
   "metadata": {},
   "outputs": [],
   "source": [
    "# acad.app.ZoomAll()# ZOOM ALL\n",
    "# acad.app.ZoomExtend #ZOOM EXTEND"
   ]
  },
  {
   "cell_type": "code",
   "execution_count": 8,
   "id": "ce1c69fb-8f5c-4fe2-9c49-b9549ec5e332",
   "metadata": {},
   "outputs": [
    {
     "data": {
      "text/plain": [
       "[<comtypes.client.lazybind.Dispatch at 0x1fbbf7f8e80>]"
      ]
     },
     "execution_count": 8,
     "metadata": {},
     "output_type": "execute_result"
    }
   ],
   "source": [
    "docsAcitve = [doc for doc in acad.app.Documents] # get all document opening\n",
    "docsAcitve"
   ]
  },
  {
   "cell_type": "code",
   "execution_count": 9,
   "id": "797636ee-db6e-4ab6-a5f3-743e5ceaa407",
   "metadata": {},
   "outputs": [
    {
     "name": "stdout",
     "output_type": "stream",
     "text": [
      "55.90169943749474\n"
     ]
    }
   ],
   "source": [
    "distance = p1.distance_to(p2) # DISTANCE\n",
    "print(distance)"
   ]
  },
  {
   "cell_type": "code",
   "execution_count": 10,
   "id": "3ed93574-311d-4c36-acf7-fc150d492de9",
   "metadata": {},
   "outputs": [],
   "source": [
    "polylineMatrix = aDouble(0,0,100,\n",
    "                                     300,400,-100,\n",
    "                                     0,300,-300) \n",
    "# có thể dùng array.array(\"d\",[0,0,0,0]) để thay thế aDouble\n",
    "polyline = acad.model.AddPolyline(polylineMatrix) "
   ]
  },
  {
   "cell_type": "code",
   "execution_count": 11,
   "id": "45cbed6a-10fc-4d5d-80a4-28b69db7122d",
   "metadata": {},
   "outputs": [
    {
     "name": "stdout",
     "output_type": "stream",
     "text": [
      "*Model_Space\n",
      "*Paper_Space\n",
      "*Paper_Space0\n",
      "137\n"
     ]
    }
   ],
   "source": [
    "blocks = []\n",
    "for block in acad.doc.Blocks:\n",
    "    print(block.Name)\n",
    "    blocks.append(block)\n",
    "blockss = []\n",
    "for bl in blocks:\n",
    "    for b in bl:\n",
    "        blockss.append(b)\n",
    "        \n",
    "print(len(blockss))"
   ]
  },
  {
   "cell_type": "code",
   "execution_count": 12,
   "id": "3459af86-3f55-4fd4-a407-542bab6880f3",
   "metadata": {},
   "outputs": [
    {
     "name": "stdout",
     "output_type": "stream",
     "text": [
      "Drawing1.dwg\n",
      "3\n"
     ]
    }
   ],
   "source": [
    "# xem HELP Autocad Active X\n",
    "for doc in acad.app.Documents:\n",
    "    num_layouts = doc.Layouts.Count \n",
    "    print(doc.Name)\n",
    "    print(num_layouts)\n"
   ]
  },
  {
   "cell_type": "code",
   "execution_count": 30,
   "id": "4b266bba-ffb1-476f-ad68-64d65b7dee2b",
   "metadata": {},
   "outputs": [],
   "source": [
    "res = []\n",
    "for obj in acad.iter_objects_fast('Text'):\n",
    "    res.append( obj)\n",
    "#     print (obj.TextString)\n",
    "    obj.Alignment = 5\n",
    "# dir(acad)\n",
    "# dir(res[0])\n",
    "# for text in acad.iter_objects_fast('Text'):\n",
    "#     print (text.InsertionPoint)"
   ]
  },
  {
   "cell_type": "code",
   "execution_count": null,
   "id": "cdeceb58-7275-4761-800d-9135da3c5b55",
   "metadata": {},
   "outputs": [],
   "source": []
  }
 ],
 "metadata": {
  "kernelspec": {
   "display_name": "Python 3",
   "language": "python",
   "name": "python3"
  },
  "language_info": {
   "codemirror_mode": {
    "name": "ipython",
    "version": 3
   },
   "file_extension": ".py",
   "mimetype": "text/x-python",
   "name": "python",
   "nbconvert_exporter": "python",
   "pygments_lexer": "ipython3",
   "version": "3.9.1"
  }
 },
 "nbformat": 4,
 "nbformat_minor": 5
}
