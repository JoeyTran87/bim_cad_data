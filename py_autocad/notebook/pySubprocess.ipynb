{
 "cells": [
  {
   "cell_type": "code",
   "execution_count": 1,
   "id": "77b48fa4-b1bf-42ae-b4b3-74b219f9d6d7",
   "metadata": {},
   "outputs": [],
   "source": [
    "import subprocess"
   ]
  },
  {
   "cell_type": "code",
   "execution_count": null,
   "id": "f886dac2-0f39-44bc-8ce0-d6fca363884b",
   "metadata": {},
   "outputs": [],
   "source": [
    "run = subprocess.run(r'C:\\Program Files\\Autodesk\\Revit 2020\\Revit.exe',capture_output= True)\n",
    "print (run.stdout)"
   ]
  },
  {
   "cell_type": "code",
   "execution_count": null,
   "id": "b1d6b2a2-88cb-4628-afda-a50d83b413ed",
   "metadata": {},
   "outputs": [],
   "source": [
    "# run = subprocess.run('dir',shell = True,capture_output= True)\n",
    "print (run.stdout)\n",
    "# print (run.stdout)"
   ]
  },
  {
   "cell_type": "code",
   "execution_count": null,
   "id": "1ce5126f-259f-4939-bf29-7b9cc9ef67fd",
   "metadata": {},
   "outputs": [],
   "source": []
  }
 ],
 "metadata": {
  "kernelspec": {
   "display_name": "Python 3",
   "language": "python",
   "name": "python3"
  },
  "language_info": {
   "codemirror_mode": {
    "name": "ipython",
    "version": 3
   },
   "file_extension": ".py",
   "mimetype": "text/x-python",
   "name": "python",
   "nbconvert_exporter": "python",
   "pygments_lexer": "ipython3",
   "version": "3.9.1"
  }
 },
 "nbformat": 4,
 "nbformat_minor": 5
}
