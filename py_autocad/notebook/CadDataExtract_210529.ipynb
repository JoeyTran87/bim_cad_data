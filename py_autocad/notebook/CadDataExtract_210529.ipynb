{
 "cells": [
  {
   "cell_type": "code",
   "execution_count": 1,
   "id": "423a9dec-e87e-4232-afbd-92ad5ae876a3",
   "metadata": {
    "jupyter": {
     "source_hidden": true
    },
    "tags": []
   },
   "outputs": [],
   "source": [
    "import pyautocad, _lib\n",
    "from pyautocad import *\n",
    "from _lib import *\n",
    "import comtypes.client\n",
    "import time"
   ]
  },
  {
   "cell_type": "markdown",
   "id": "682559e2-f711-490a-90d1-a4401845a9aa",
   "metadata": {
    "tags": []
   },
   "source": [
    "# INPUT: AUTOCAD FILE NAME"
   ]
  },
  {
   "cell_type": "code",
   "execution_count": 2,
   "id": "17342df4-3c49-4921-aa66-22dbe4a30076",
   "metadata": {
    "jupyter": {
     "source_hidden": true
    },
    "tags": []
   },
   "outputs": [],
   "source": [
    "# cadExtr = cadExtractor()\n",
    "# path = cadExtr.fileName #\n",
    "path = r'C:\\Users\\USER\\Documents\\GitHub\\cofico\\cofico\\FROM BIM MASTER TEMP 210412\\Python\\pyAutocad\\CAD DATA\\TestBlockText.dwg'"
   ]
  },
  {
   "cell_type": "code",
   "execution_count": 6,
   "id": "7644e187-f927-4342-9b97-3afd1c99c3dd",
   "metadata": {
    "tags": []
   },
   "outputs": [
    {
     "data": {
      "text/plain": [
       "<pyautocad.api.Autocad at 0x1dbe45b87f0>"
      ]
     },
     "execution_count": 6,
     "metadata": {},
     "output_type": "execute_result"
    }
   ],
   "source": [
    "acad = openCADFile(path)\n",
    "acad"
   ]
  },
  {
   "cell_type": "code",
   "execution_count": 106,
   "id": "04029c3b-8fa8-437c-b12c-767b7e544741",
   "metadata": {
    "tags": []
   },
   "outputs": [
    {
     "data": {
      "text/plain": [
       "['QueryInterface',\n",
       " '_Dispatch__bind',\n",
       " '__call__',\n",
       " '__class__',\n",
       " '__cmp__',\n",
       " '__delattr__',\n",
       " '__dict__',\n",
       " '__dir__',\n",
       " '__doc__',\n",
       " '__eq__',\n",
       " '__format__',\n",
       " '__ge__',\n",
       " '__getattr__',\n",
       " '__getattribute__',\n",
       " '__getitem__',\n",
       " '__gt__',\n",
       " '__hash__',\n",
       " '__init__',\n",
       " '__init_subclass__',\n",
       " '__iter__',\n",
       " '__le__',\n",
       " '__lt__',\n",
       " '__module__',\n",
       " '__ne__',\n",
       " '__new__',\n",
       " '__reduce__',\n",
       " '__reduce_ex__',\n",
       " '__repr__',\n",
       " '__setattr__',\n",
       " '__setitem__',\n",
       " '__sizeof__',\n",
       " '__str__',\n",
       " '__subclasshook__',\n",
       " '__weakref__',\n",
       " '_comobj',\n",
       " '_tcomp',\n",
       " '_tdesc',\n",
       " '_tinfo']"
      ]
     },
     "execution_count": 106,
     "metadata": {},
     "output_type": "execute_result"
    }
   ],
   "source": [
    "doc=acad.ActiveDocument\n",
    "ms=doc.ModelSpace\n",
    "\n",
    "\n",
    "dir (acad.doc)\n",
    "# with doc.TransactionManager as tr:\n",
    "#     tr.Start()\n",
    "#     tr.Commit()"
   ]
  },
  {
   "cell_type": "code",
   "execution_count": 103,
   "id": "0849cf4c-e1e0-4136-91c8-32a53be0e5e8",
   "metadata": {
    "tags": []
   },
   "outputs": [
    {
     "data": {
      "text/plain": [
       "<pyautocad.api.Autocad at 0x1dbe45c48b0>"
      ]
     },
     "execution_count": 103,
     "metadata": {},
     "output_type": "execute_result"
    }
   ],
   "source": [
    "acad = openCADFile(path)\n",
    "acad"
   ]
  },
  {
   "cell_type": "code",
   "execution_count": 100,
   "id": "1da5dd34-6438-4a05-a765-860694d9610f",
   "metadata": {},
   "outputs": [
    {
     "ename": "NameError",
     "evalue": "Name iter_objects_fast not found",
     "output_type": "error",
     "traceback": [
      "\u001b[1;31m---------------------------------------------------------------------------\u001b[0m",
      "\u001b[1;31mKeyError\u001b[0m                                  Traceback (most recent call last)",
      "\u001b[1;32mc:\\users\\user\\appdata\\local\\programs\\python\\python39\\lib\\site-packages\\comtypes\\client\\lazybind.py\u001b[0m in \u001b[0;36m__bind\u001b[1;34m(self, name, invkind)\u001b[0m\n\u001b[0;32m    122\u001b[0m         \u001b[1;32mtry\u001b[0m\u001b[1;33m:\u001b[0m\u001b[1;33m\u001b[0m\u001b[1;33m\u001b[0m\u001b[0m\n\u001b[1;32m--> 123\u001b[1;33m             \u001b[1;32mreturn\u001b[0m \u001b[0mself\u001b[0m\u001b[1;33m.\u001b[0m\u001b[0m_tdesc\u001b[0m\u001b[1;33m[\u001b[0m\u001b[1;33m(\u001b[0m\u001b[0mname\u001b[0m\u001b[1;33m,\u001b[0m \u001b[0minvkind\u001b[0m\u001b[1;33m)\u001b[0m\u001b[1;33m]\u001b[0m\u001b[1;33m\u001b[0m\u001b[1;33m\u001b[0m\u001b[0m\n\u001b[0m\u001b[0;32m    124\u001b[0m         \u001b[1;32mexcept\u001b[0m \u001b[0mKeyError\u001b[0m\u001b[1;33m:\u001b[0m\u001b[1;33m\u001b[0m\u001b[1;33m\u001b[0m\u001b[0m\n",
      "\u001b[1;31mKeyError\u001b[0m: ('iter_objects_fast', 3)",
      "\nDuring handling of the above exception, another exception occurred:\n",
      "\u001b[1;31mNameError\u001b[0m                                 Traceback (most recent call last)",
      "\u001b[1;32m<ipython-input-100-b6abece1dfca>\u001b[0m in \u001b[0;36m<module>\u001b[1;34m\u001b[0m\n\u001b[0;32m     14\u001b[0m \u001b[1;32mfor\u001b[0m \u001b[0mb\u001b[0m \u001b[1;32min\u001b[0m \u001b[0mblockRefs\u001b[0m\u001b[1;33m:\u001b[0m\u001b[1;33m\u001b[0m\u001b[1;33m\u001b[0m\u001b[0m\n\u001b[0;32m     15\u001b[0m \u001b[1;31m#     print( b.Name,b.InsertionPoint )\u001b[0m\u001b[1;33m\u001b[0m\u001b[1;33m\u001b[0m\u001b[1;33m\u001b[0m\u001b[0m\n\u001b[1;32m---> 16\u001b[1;33m     \u001b[0mprint\u001b[0m\u001b[1;33m(\u001b[0m\u001b[0mb\u001b[0m\u001b[1;33m.\u001b[0m\u001b[0miter_objects_fast\u001b[0m\u001b[1;33m(\u001b[0m\u001b[1;33m[\u001b[0m\u001b[1;34m'Text'\u001b[0m\u001b[1;33m]\u001b[0m\u001b[1;33m)\u001b[0m \u001b[1;33m)\u001b[0m\u001b[1;33m\u001b[0m\u001b[1;33m\u001b[0m\u001b[0m\n\u001b[0m\u001b[0;32m     17\u001b[0m \u001b[1;33m\u001b[0m\u001b[0m\n\u001b[0;32m     18\u001b[0m \u001b[1;33m\u001b[0m\u001b[0m\n",
      "\u001b[1;32mc:\\users\\user\\appdata\\local\\programs\\python\\python39\\lib\\site-packages\\comtypes\\client\\lazybind.py\u001b[0m in \u001b[0;36m__getattr__\u001b[1;34m(self, name)\u001b[0m\n\u001b[0;32m    159\u001b[0m             \u001b[1;32mraise\u001b[0m \u001b[0mAttributeError\u001b[0m\u001b[1;33m(\u001b[0m\u001b[0mname\u001b[0m\u001b[1;33m)\u001b[0m\u001b[1;33m\u001b[0m\u001b[1;33m\u001b[0m\u001b[0m\n\u001b[0;32m    160\u001b[0m         \u001b[1;31m# check for propget or method\u001b[0m\u001b[1;33m\u001b[0m\u001b[1;33m\u001b[0m\u001b[1;33m\u001b[0m\u001b[0m\n\u001b[1;32m--> 161\u001b[1;33m         \u001b[0mdescr\u001b[0m \u001b[1;33m=\u001b[0m \u001b[0mself\u001b[0m\u001b[1;33m.\u001b[0m\u001b[0m__bind\u001b[0m\u001b[1;33m(\u001b[0m\u001b[0mname\u001b[0m\u001b[1;33m,\u001b[0m \u001b[0mDISPATCH_METHOD\u001b[0m \u001b[1;33m|\u001b[0m \u001b[0mDISPATCH_PROPERTYGET\u001b[0m\u001b[1;33m)\u001b[0m\u001b[1;33m\u001b[0m\u001b[1;33m\u001b[0m\u001b[0m\n\u001b[0m\u001b[0;32m    162\u001b[0m         \u001b[1;32mif\u001b[0m \u001b[0mdescr\u001b[0m \u001b[1;32mis\u001b[0m \u001b[1;32mNone\u001b[0m\u001b[1;33m:\u001b[0m\u001b[1;33m\u001b[0m\u001b[1;33m\u001b[0m\u001b[0m\n\u001b[0;32m    163\u001b[0m             \u001b[1;32mraise\u001b[0m \u001b[0mAttributeError\u001b[0m\u001b[1;33m(\u001b[0m\u001b[0mname\u001b[0m\u001b[1;33m)\u001b[0m\u001b[1;33m\u001b[0m\u001b[1;33m\u001b[0m\u001b[0m\n",
      "\u001b[1;32mc:\\users\\user\\appdata\\local\\programs\\python\\python39\\lib\\site-packages\\comtypes\\client\\lazybind.py\u001b[0m in \u001b[0;36m__bind\u001b[1;34m(self, name, invkind)\u001b[0m\n\u001b[0;32m    124\u001b[0m         \u001b[1;32mexcept\u001b[0m \u001b[0mKeyError\u001b[0m\u001b[1;33m:\u001b[0m\u001b[1;33m\u001b[0m\u001b[1;33m\u001b[0m\u001b[0m\n\u001b[0;32m    125\u001b[0m             \u001b[1;32mtry\u001b[0m\u001b[1;33m:\u001b[0m\u001b[1;33m\u001b[0m\u001b[1;33m\u001b[0m\u001b[0m\n\u001b[1;32m--> 126\u001b[1;33m                 \u001b[0mdescr\u001b[0m \u001b[1;33m=\u001b[0m \u001b[0mself\u001b[0m\u001b[1;33m.\u001b[0m\u001b[0m_tcomp\u001b[0m\u001b[1;33m.\u001b[0m\u001b[0mBind\u001b[0m\u001b[1;33m(\u001b[0m\u001b[0mname\u001b[0m\u001b[1;33m,\u001b[0m \u001b[0minvkind\u001b[0m\u001b[1;33m)\u001b[0m\u001b[1;33m[\u001b[0m\u001b[1;36m1\u001b[0m\u001b[1;33m]\u001b[0m\u001b[1;33m\u001b[0m\u001b[1;33m\u001b[0m\u001b[0m\n\u001b[0m\u001b[0;32m    127\u001b[0m             \u001b[1;32mexcept\u001b[0m \u001b[0mcomtypes\u001b[0m\u001b[1;33m.\u001b[0m\u001b[0mCOMError\u001b[0m\u001b[1;33m:\u001b[0m\u001b[1;33m\u001b[0m\u001b[1;33m\u001b[0m\u001b[0m\n\u001b[0;32m    128\u001b[0m                 \u001b[0minfo\u001b[0m \u001b[1;33m=\u001b[0m \u001b[1;32mNone\u001b[0m\u001b[1;33m\u001b[0m\u001b[1;33m\u001b[0m\u001b[0m\n",
      "\u001b[1;32mc:\\users\\user\\appdata\\local\\programs\\python\\python39\\lib\\site-packages\\comtypes\\typeinfo.py\u001b[0m in \u001b[0;36mBind\u001b[1;34m(self, name, flags, lHashVal)\u001b[0m\n\u001b[0;32m    364\u001b[0m             \u001b[1;32mraise\u001b[0m \u001b[0mNotImplementedError\u001b[0m\u001b[1;33m\u001b[0m\u001b[1;33m\u001b[0m\u001b[0m\n\u001b[0;32m    365\u001b[0m         \u001b[1;32melif\u001b[0m \u001b[0mkind\u001b[0m \u001b[1;33m==\u001b[0m \u001b[0mDESCKIND_NONE\u001b[0m\u001b[1;33m:\u001b[0m\u001b[1;33m\u001b[0m\u001b[1;33m\u001b[0m\u001b[0m\n\u001b[1;32m--> 366\u001b[1;33m             \u001b[1;32mraise\u001b[0m \u001b[0mNameError\u001b[0m\u001b[1;33m(\u001b[0m\u001b[1;34m\"Name %s not found\"\u001b[0m \u001b[1;33m%\u001b[0m \u001b[0mname\u001b[0m\u001b[1;33m)\u001b[0m\u001b[1;33m\u001b[0m\u001b[1;33m\u001b[0m\u001b[0m\n\u001b[0m\u001b[0;32m    367\u001b[0m \u001b[1;33m\u001b[0m\u001b[0m\n\u001b[0;32m    368\u001b[0m     \u001b[1;32mdef\u001b[0m \u001b[0mBindType\u001b[0m\u001b[1;33m(\u001b[0m\u001b[0mself\u001b[0m\u001b[1;33m,\u001b[0m \u001b[0mname\u001b[0m\u001b[1;33m,\u001b[0m \u001b[0mlHashVal\u001b[0m\u001b[1;33m=\u001b[0m\u001b[1;36m0\u001b[0m\u001b[1;33m)\u001b[0m\u001b[1;33m:\u001b[0m\u001b[1;33m\u001b[0m\u001b[1;33m\u001b[0m\u001b[0m\n",
      "\u001b[1;31mNameError\u001b[0m: Name iter_objects_fast not found"
     ]
    }
   ],
   "source": [
    "doc=acad.ActiveDocument\n",
    "ms=doc.ModelSpace\n",
    "count = ms.count\n",
    "# items = []\n",
    "# for i in range(count):\n",
    "#     item = ms.Item(i)\n",
    "#     items.append(item)\n",
    "#     print(item.ObjectId)\n",
    "# blocks = doc.Blocks\n",
    "# for block in blocks:\n",
    "#     print(block.Name)\n",
    "    \n",
    "blockRefs = acad.iter_objects_fast(['BlockReference']) # AcDbBlockReference\n",
    "for b in blockRefs:\n",
    "    print( b.Name,b.InsertionPoint )\n",
    "#     print(b.iter_objects_fast(['Text']) )\n",
    "    \n",
    "    \n",
    "# dir(blockRefs)\n",
    "# obj = acad.get_selection(text='Select objects')\n",
    "# obj.InsertPoint\n",
    "texts = acad.iter_objects_fast(['Text']) # AcDbBlockReference\n",
    "# for t in texts:\n",
    "#     print( t.Name,t.InsertionPoint )"
   ]
  },
  {
   "cell_type": "code",
   "execution_count": 77,
   "id": "c8c8f7ff-5714-48b6-9697-b57373dcce95",
   "metadata": {},
   "outputs": [
    {
     "name": "stdout",
     "output_type": "stream",
     "text": [
      "AcDbBlockReference\n",
      "AcDbBlockReference\n",
      "AcDbBlockReference\n",
      "AcDbBlockReference\n",
      "AcDbBlockReference\n"
     ]
    },
    {
     "data": {
      "text/plain": [
       "['QueryInterface',\n",
       " '_Dispatch__bind',\n",
       " '__call__',\n",
       " '__class__',\n",
       " '__cmp__',\n",
       " '__delattr__',\n",
       " '__dict__',\n",
       " '__dir__',\n",
       " '__doc__',\n",
       " '__eq__',\n",
       " '__format__',\n",
       " '__ge__',\n",
       " '__getattr__',\n",
       " '__getattribute__',\n",
       " '__getitem__',\n",
       " '__gt__',\n",
       " '__hash__',\n",
       " '__init__',\n",
       " '__init_subclass__',\n",
       " '__iter__',\n",
       " '__le__',\n",
       " '__lt__',\n",
       " '__module__',\n",
       " '__ne__',\n",
       " '__new__',\n",
       " '__reduce__',\n",
       " '__reduce_ex__',\n",
       " '__repr__',\n",
       " '__setattr__',\n",
       " '__setitem__',\n",
       " '__sizeof__',\n",
       " '__str__',\n",
       " '__subclasshook__',\n",
       " '__weakref__',\n",
       " '_comobj',\n",
       " '_tcomp',\n",
       " '_tdesc',\n",
       " '_tinfo']"
      ]
     },
     "execution_count": 77,
     "metadata": {},
     "output_type": "execute_result"
    }
   ],
   "source": [
    "blocks = []\n",
    "for obj in acad.iter_objects_fast('Block'):\n",
    "    try:\n",
    "        name = obj.EntityName\n",
    "        print(name)\n",
    "        if name == 'AcDbBlockReference':\n",
    "            blocks.append(obj)\n",
    "            HasAttributes = obj.HasAttributes\n",
    "            if HasAttributes:\n",
    "                for attrib in obj.GetAttributes():\n",
    "                    print(\"  {}: {}\".format(attrib.TagString, attrib.TextString))\n",
    "    except Exception as ex:\n",
    "        print(ex)\n",
    "        pass\n",
    "    \n",
    "dir(blocks[1])"
   ]
  },
  {
   "cell_type": "code",
   "execution_count": 13,
   "id": "4c285f9e-8edd-468a-9d9c-30c8a08fa8a3",
   "metadata": {
    "tags": []
   },
   "outputs": [],
   "source": [
    "res = []\n",
    "for obj in acad.iter_objects_fast('Text'):\n",
    "    res.append( obj)\n",
    "    print (obj.TextString)\n",
    "    try:\n",
    "        obj.Alignment = 0\n",
    "#         print(obj.TextAlignmentPoint,obj.InsertionPoint)\n",
    "    except Exception as ex:\n",
    "        print(ex)"
   ]
  },
  {
   "cell_type": "code",
   "execution_count": 13,
   "id": "f49354f6-e38e-42e9-8862-3706fad3de91",
   "metadata": {
    "tags": []
   },
   "outputs": [],
   "source": [
    "res = []\n",
    "for obj in acad.iter_objects_fast('Text'):\n",
    "    res.append( obj)\n",
    "    print (obj.TextString)\n",
    "    try:\n",
    "        obj.Alignment = 0\n",
    "#         print(obj.TextAlignmentPoint,obj.InsertionPoint)\n",
    "    except Exception as ex:\n",
    "        print(ex)"
   ]
  },
  {
   "cell_type": "code",
   "execution_count": null,
   "id": "fd68cacb-a9c9-4c53-bf90-87b523530cc3",
   "metadata": {},
   "outputs": [],
   "source": []
  },
  {
   "cell_type": "code",
   "execution_count": null,
   "id": "b64fe1a4-b70c-4f4c-a427-5774eb1ee343",
   "metadata": {},
   "outputs": [],
   "source": []
  },
  {
   "cell_type": "code",
   "execution_count": null,
   "id": "59a1af8e-3326-4b86-a121-5d58161962cd",
   "metadata": {},
   "outputs": [],
   "source": [
    "for doc in acad.Documents:\n",
    "    print (doc.Name)"
   ]
  },
  {
   "cell_type": "code",
   "execution_count": null,
   "id": "0a5bdbb5-8374-427a-b3c0-35e10e96afff",
   "metadata": {},
   "outputs": [],
   "source": [
    "dir(acad.GetAcadState())"
   ]
  },
  {
   "cell_type": "code",
   "execution_count": null,
   "id": "08d18dd3-16e5-4c0c-babf-cea1e989b77d",
   "metadata": {},
   "outputs": [],
   "source": []
  }
 ],
 "metadata": {
  "kernelspec": {
   "display_name": "Python 3",
   "language": "python",
   "name": "python3"
  },
  "language_info": {
   "codemirror_mode": {
    "name": "ipython",
    "version": 3
   },
   "file_extension": ".py",
   "mimetype": "text/x-python",
   "name": "python",
   "nbconvert_exporter": "python",
   "pygments_lexer": "ipython3",
   "version": "3.9.1"
  }
 },
 "nbformat": 4,
 "nbformat_minor": 5
}
