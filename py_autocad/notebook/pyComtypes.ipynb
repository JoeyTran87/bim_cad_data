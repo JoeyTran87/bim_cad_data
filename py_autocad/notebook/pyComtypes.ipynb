{
 "cells": [
  {
   "cell_type": "code",
   "execution_count": 1,
   "id": "9260d353-b9ee-43d6-8d9b-4679d96b7f09",
   "metadata": {},
   "outputs": [],
   "source": [
    "import comtypes.client\n",
    "import os"
   ]
  },
  {
   "cell_type": "code",
   "execution_count": 2,
   "id": "06e41e9c-4a05-4545-a361-adf69d5b8036",
   "metadata": {},
   "outputs": [],
   "source": [
    "# try:\n",
    "#     revit = comtypes.client.GetActiveObject(\"Revit 2020\")#(\"Revit.Project\")\n",
    "# except Exception as ex:\n",
    "#     print (ex)\n",
    "# #     revit = comtypes.client.CreateObject(\"Autodesk.Revit\")\n",
    "#     pass\n"
   ]
  },
  {
   "cell_type": "code",
   "execution_count": 3,
   "id": "1afb22ce-c006-4068-bf57-ef26ede6441b",
   "metadata": {},
   "outputs": [],
   "source": [
    "#  help(comtypes.client)"
   ]
  },
  {
   "cell_type": "code",
   "execution_count": 4,
   "id": "a7dfa7f3-4e2d-4df6-bb20-dac7f8b58d0a",
   "metadata": {},
   "outputs": [],
   "source": [
    "# rvtpath = r\"C:\\Users\\USER\\Downloads\\CHG\\CHG-S-TW A-4F 5F 6F 7F 8F-210507.rvt\"\n",
    "# o = open(rvtpath,\"r\")\n",
    "# o"
   ]
  },
  {
   "cell_type": "code",
   "execution_count": 7,
   "id": "7dbbd60f-e4d3-4364-ab18-bb0f64f3b0be",
   "metadata": {},
   "outputs": [],
   "source": [
    "# help(comtypes.client)"
   ]
  },
  {
   "cell_type": "code",
   "execution_count": 9,
   "id": "3165fa93-1ca2-41db-a558-3841f0002865",
   "metadata": {},
   "outputs": [
    {
     "ename": "OSError",
     "evalue": "[WinError -2147221005] Invalid class string",
     "output_type": "error",
     "traceback": [
      "\u001b[1;31m---------------------------------------------------------------------------\u001b[0m",
      "\u001b[1;31mOSError\u001b[0m                                   Traceback (most recent call last)",
      "\u001b[1;32m<ipython-input-9-96dffe44a56d>\u001b[0m in \u001b[0;36m<module>\u001b[1;34m\u001b[0m\n\u001b[1;32m----> 1\u001b[1;33m \u001b[0mrevit\u001b[0m \u001b[1;33m=\u001b[0m \u001b[0mcomtypes\u001b[0m\u001b[1;33m.\u001b[0m\u001b[0mclient\u001b[0m\u001b[1;33m.\u001b[0m\u001b[0mCreateObject\u001b[0m\u001b[1;33m(\u001b[0m\u001b[1;34m\"AutodeskRevit.Application\"\u001b[0m\u001b[1;33m)\u001b[0m\u001b[1;33m\u001b[0m\u001b[1;33m\u001b[0m\u001b[0m\n\u001b[0m",
      "\u001b[1;32mc:\\users\\user\\appdata\\local\\programs\\python\\python39\\lib\\site-packages\\comtypes\\client\\__init__.py\u001b[0m in \u001b[0;36mCreateObject\u001b[1;34m(progid, clsctx, machine, interface, dynamic, pServerInfo)\u001b[0m\n\u001b[0;32m    225\u001b[0m     \u001b[0mYou\u001b[0m \u001b[0mcan\u001b[0m \u001b[0malso\u001b[0m \u001b[0mlater\u001b[0m \u001b[0mrequest\u001b[0m \u001b[0mto\u001b[0m \u001b[0mreceive\u001b[0m \u001b[0mevents\u001b[0m \u001b[1;32mwith\u001b[0m \u001b[0mGetEvents\u001b[0m\u001b[1;33m(\u001b[0m\u001b[1;33m)\u001b[0m\u001b[1;33m.\u001b[0m\u001b[1;33m\u001b[0m\u001b[1;33m\u001b[0m\u001b[0m\n\u001b[0;32m    226\u001b[0m     \"\"\"\n\u001b[1;32m--> 227\u001b[1;33m     \u001b[0mclsid\u001b[0m \u001b[1;33m=\u001b[0m \u001b[0mcomtypes\u001b[0m\u001b[1;33m.\u001b[0m\u001b[0mGUID\u001b[0m\u001b[1;33m.\u001b[0m\u001b[0mfrom_progid\u001b[0m\u001b[1;33m(\u001b[0m\u001b[0mprogid\u001b[0m\u001b[1;33m)\u001b[0m\u001b[1;33m\u001b[0m\u001b[1;33m\u001b[0m\u001b[0m\n\u001b[0m\u001b[0;32m    228\u001b[0m     \u001b[0mlogger\u001b[0m\u001b[1;33m.\u001b[0m\u001b[0mdebug\u001b[0m\u001b[1;33m(\u001b[0m\u001b[1;34m\"%s -> %s\"\u001b[0m\u001b[1;33m,\u001b[0m \u001b[0mprogid\u001b[0m\u001b[1;33m,\u001b[0m \u001b[0mclsid\u001b[0m\u001b[1;33m)\u001b[0m\u001b[1;33m\u001b[0m\u001b[1;33m\u001b[0m\u001b[0m\n\u001b[0;32m    229\u001b[0m     \u001b[1;32mif\u001b[0m \u001b[0mdynamic\u001b[0m\u001b[1;33m:\u001b[0m\u001b[1;33m\u001b[0m\u001b[1;33m\u001b[0m\u001b[0m\n",
      "\u001b[1;32mc:\\users\\user\\appdata\\local\\programs\\python\\python39\\lib\\site-packages\\comtypes\\GUID.py\u001b[0m in \u001b[0;36mfrom_progid\u001b[1;34m(cls, progid)\u001b[0m\n\u001b[0;32m     76\u001b[0m                 \u001b[1;32mreturn\u001b[0m \u001b[0mcls\u001b[0m\u001b[1;33m(\u001b[0m\u001b[0mprogid\u001b[0m\u001b[1;33m)\u001b[0m\u001b[1;33m\u001b[0m\u001b[1;33m\u001b[0m\u001b[0m\n\u001b[0;32m     77\u001b[0m             \u001b[0minst\u001b[0m \u001b[1;33m=\u001b[0m \u001b[0mcls\u001b[0m\u001b[1;33m(\u001b[0m\u001b[1;33m)\u001b[0m\u001b[1;33m\u001b[0m\u001b[1;33m\u001b[0m\u001b[0m\n\u001b[1;32m---> 78\u001b[1;33m             \u001b[0m_CLSIDFromProgID\u001b[0m\u001b[1;33m(\u001b[0m\u001b[0mstr\u001b[0m\u001b[1;33m(\u001b[0m\u001b[0mprogid\u001b[0m\u001b[1;33m)\u001b[0m\u001b[1;33m,\u001b[0m \u001b[0mbyref\u001b[0m\u001b[1;33m(\u001b[0m\u001b[0minst\u001b[0m\u001b[1;33m)\u001b[0m\u001b[1;33m)\u001b[0m\u001b[1;33m\u001b[0m\u001b[1;33m\u001b[0m\u001b[0m\n\u001b[0m\u001b[0;32m     79\u001b[0m             \u001b[1;32mreturn\u001b[0m \u001b[0minst\u001b[0m\u001b[1;33m\u001b[0m\u001b[1;33m\u001b[0m\u001b[0m\n\u001b[0;32m     80\u001b[0m         \u001b[1;32melse\u001b[0m\u001b[1;33m:\u001b[0m\u001b[1;33m\u001b[0m\u001b[1;33m\u001b[0m\u001b[0m\n",
      "\u001b[1;32m_ctypes/callproc.c\u001b[0m in \u001b[0;36mGetResult\u001b[1;34m()\u001b[0m\n",
      "\u001b[1;31mOSError\u001b[0m: [WinError -2147221005] Invalid class string"
     ]
    }
   ],
   "source": [
    "revit = comtypes.client.CreateObject(\"AutodeskRevit.Application\")"
   ]
  },
  {
   "cell_type": "code",
   "execution_count": null,
   "id": "5fbbd174-2593-4b3d-bea1-db0829e1109d",
   "metadata": {},
   "outputs": [],
   "source": []
  }
 ],
 "metadata": {
  "kernelspec": {
   "display_name": "Python 3",
   "language": "python",
   "name": "python3"
  },
  "language_info": {
   "codemirror_mode": {
    "name": "ipython",
    "version": 3
   },
   "file_extension": ".py",
   "mimetype": "text/x-python",
   "name": "python",
   "nbconvert_exporter": "python",
   "pygments_lexer": "ipython3",
   "version": "3.9.1"
  }
 },
 "nbformat": 4,
 "nbformat_minor": 5
}
