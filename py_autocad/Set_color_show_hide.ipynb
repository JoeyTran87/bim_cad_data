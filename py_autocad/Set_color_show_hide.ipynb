{
 "cells": [
  {
   "cell_type": "code",
   "execution_count": 7,
   "id": "7a7c99cd-f496-4fd4-a1b7-50ca59e1eee6",
   "metadata": {
    "tags": []
   },
   "outputs": [],
   "source": [
    "#!/usr/bin/env python\n",
    "# coding: utf-8\n",
    "\n",
    "import pyautocad\n",
    "from pyautocad import Autocad, APoint,aDouble, ACAD\n",
    "import logging,os,time\n",
    "\n",
    "def cad_selector(cad_doc,set_name,promp=\"Select objects\"):\n",
    "    \"\"\"Phương thức chọn đối tượng trong file CAD\"\"\"\n",
    "    print(promp)\n",
    "    cad_doc.Utility.Prompt(u\"%s\\n\" % promp)\n",
    "    try:\n",
    "        cad_doc.SelectionSets.Item(set_name).Delete()\n",
    "    except Exception as ex:\n",
    "        pass\n",
    "    selection = cad_doc.SelectionSets.Add(set_name)\n",
    "    selection.SelectOnScreen()\n",
    "    return selection\n",
    "\n",
    "def get_items(cad_doc,in_text = 'AcDb',in_xref = False,in_block = False):\n",
    "    ms = cad_doc.ModelSpace\n",
    "    list_items = [ms.Item(i) for i in range(ms.Count) if in_text in ms.Item(i).ObjectName]\n",
    "    return list_items\n",
    "\n",
    "\n",
    "    \n",
    "def open_file(acad,path = None):    \n",
    "    if path == None:\n",
    "        while True:\n",
    "            path = input('Đường dẫn file CAD: ')\n",
    "            if os.path.isfile(path):\n",
    "                print('Đã load Path')\n",
    "                break\n",
    "            else:\n",
    "                print('Path không tồn tại')    \n",
    "    file_name = path.split(\"\\\\\")[-1]\n",
    "    # print(f\"File name: {file_name}\")\n",
    "    docs = acad.app.Documents # print(cad_doc.Name)\n",
    "    doc_names = [d.Name for d in docs]\n",
    "    while True:\n",
    "        if not file_name in doc_names:    \n",
    "            acad.app.Documents.Open(path)\n",
    "            docs = acad.app.Documents # print(cad_doc.Name)\n",
    "            doc_names = [d.Name for d in docs]    \n",
    "        for d in docs:\n",
    "            if d.Name == file_name:\n",
    "                cad_doc = d\n",
    "                print('Thành công mở file xref')\n",
    "                break\n",
    "        if cad_doc != None:\n",
    "            break\n",
    "        else:\n",
    "            print('Không thể mở file xref')\n",
    "    acad.app.ZoomAll()\n",
    "    cad_doc.Regen (True)\n",
    "    return cad_doc\n",
    "\n",
    "def show_hide_items_in_doc(doc,item_type = \"Text\",show =False):\n",
    "    ms = doc.ModelSpace\n",
    "    block_names = []\n",
    "    for i in range(ms.Count):\n",
    "        try: # xử lí các item trong Doc\n",
    "            item = ms.Item(i)\n",
    "            if item_type in item.ObjectName:\n",
    "                item.Visible = show # ẨN Item\n",
    "            if 'AcDbBlockReference' in item.ObjectName: # lấy ds tên block referent\n",
    "                block_names.append(item.Name)\n",
    "        except Exception as ex:\n",
    "            pass\n",
    "    # xử lí các BLOCK\n",
    "    blocks = doc.Blocks\n",
    "    for block in blocks:\n",
    "        try: \n",
    "            if block.Name in block_names:\n",
    "                show_hide_items_in_block(block,item_type = item_type, show = show)\n",
    "        except Exception as ex:\n",
    "            # print(ex)\n",
    "            pass \n",
    "    doc.Regen (True)\n",
    "\n",
    "def show_hide_items_in_block(block,item_type = \"Text\",show =False): \n",
    "    for i in range(block.Count):\n",
    "        try: # xử lí các item trong block\n",
    "            item = block.Item(i)\n",
    "            if item_type in item.ObjectName:\n",
    "                item.Visible = show # ẨN item\n",
    "            if 'AcDbBlockReference' in item.ObjectName: # xử lí tiếp các Block con\n",
    "                show_hide_items_in_block(item,item_type = item_type, show = show)\n",
    "        except Exception as ex:\n",
    "            # print (ex)\n",
    "            pass\n",
    "\n",
    "def set_color_items_in_doc(doc,item_type = \"Text\",R = 192,G = 192 , B = 192):\n",
    "    ms = doc.ModelSpace\n",
    "    block_names = []\n",
    "    color = ms.Item(0).TrueColor\n",
    "    color.SetRGB(R,G,B)\n",
    "    for i in range(ms.Count):\n",
    "        try: # xử lí các item trong Doc\n",
    "            item = ms.Item(i)\n",
    "            if item_type in item.ObjectName:\n",
    "                item.TrueColor = color\n",
    "            if 'AcDbBlockReference' in item.ObjectName: # lấy ds tên block referent\n",
    "                block_names.append(item.Name)\n",
    "        except Exception as ex:\n",
    "            pass\n",
    "    # xử lí các BLOCK\n",
    "    blocks = doc.Blocks\n",
    "    for block in blocks:\n",
    "        try: \n",
    "            if block.Name in block_names:\n",
    "                set_color_items_in_block(block,item_type = item_type, R = R,G = G , B = B)\n",
    "        except Exception as ex:\n",
    "            # print(ex)\n",
    "            pass \n",
    "    doc.Regen (True)\n",
    "def set_color_items_in_block(block,item_type = \"Text\",R = 192,G = 192 , B = 192): \n",
    "    color = block.Item(0).TrueColor\n",
    "    color.SetRGB(R,G,B)\n",
    "    for i in range(block.Count):\n",
    "        try: # xử lí các item trong block\n",
    "            item = block.Item(i)\n",
    "            if item_type in item.ObjectName:\n",
    "                item.TrueColor = color\n",
    "            if 'AcDbBlockReference' in item.ObjectName: # xử lí tiếp các Block con\n",
    "                set_color_items_in_block(item,item_type = item_type,  R = R,G = G , B = B)\n",
    "\n",
    "        except Exception as ex:\n",
    "            # print (ex)\n",
    "            pass\n",
    "    \n"
   ]
  },
  {
   "cell_type": "code",
   "execution_count": 33,
   "id": "a9ef38a9-a56a-4896-9f0d-81fb80649b5b",
   "metadata": {},
   "outputs": [
    {
     "name": "stdout",
     "output_type": "stream",
     "text": [
      "0 : Drawing2.dwg\n",
      "1 : x-01-xuong 2.dwg\n"
     ]
    },
    {
     "name": "stdin",
     "output_type": "stream",
     "text": [
      "Vui lòng chọn Document:  0\n"
     ]
    }
   ],
   "source": [
    "#-------------------------------------------------------------------#\n",
    "if __name__ ==  '__main__':\n",
    "    \"\"\"\"\"\"\n",
    "    # DEBUGGER\n",
    "    debug_file_name = f\"{os.getcwd()}\\\\debug\\\\debug.txt\" #<---  SỬ DUNG CHO 1 LẦN DEBUG\n",
    "    # debug_file_name = f\"{os.getcwd()}\\\\debug\\\\debug-{time.strftime('%y%m%d %H%M%S',time.localtime(time.time()))}.txt\" #<---  SỬ DUNG CHO NHIỀU LẦN DEBUG\n",
    "    logging.basicConfig(filename = debug_file_name,level=logging.INFO, format='%(message)s')\n",
    "    # logging.disable(logging.CRITICAL) ########### <---  UNCOMMNEND khi không cần debug nữa\n",
    "    logging.info('Program START')\n",
    "    \n",
    "    # MỞ AUTOCAD\n",
    "    acad = Autocad(create_if_not_exists=True, visible=True)\n",
    "    if acad:  logging.info('Autocad Opened')\n",
    "    \n",
    "    # MỞ DOCUMENTS AUTOCAD\n",
    "    cad_doc_list = list(acad.app.Documents)\n",
    "    \n",
    "    # SHOW LIST DOC\n",
    "    [print(f\"{i} : {cad_doc_list[i].Name}\") for i in range(len(cad_doc_list))]\n",
    "    \n",
    "    # HỎI CHỌN DOCUMENT\n",
    "    while True:\n",
    "        try:\n",
    "            ask_doc = input(\"Vui lòng chọn Document: \")    \n",
    "            if ask_doc == '0' or int(ask_doc):\n",
    "                cad_doc = cad_doc_list[int(ask_doc)]\n",
    "                break\n",
    "        except:\n",
    "            continue\n",
    "    \n",
    "    \n",
    "    logging.info(cad_doc.Name)\n",
    "\n",
    "    # MODEL SPACE\n",
    "    model_space = cad_doc.ModelSpace\n",
    "    paper_space = cad_doc.PaperSpace\n",
    "    logging.info([model_space.Name,paper_space.name])\n",
    "    \"\"\"\n",
    "    # LAYOUT\n",
    "    layouts = list(cad_doc.Layouts)\n",
    "    [print(f\"{i} : {layouts[i].Name}\") for i in range(len(layouts))]    \n",
    "    logging.info([layout.Name for layout in layouts])\n",
    "    # HỎI CHỌN LAYOUT\n",
    "    while True:\n",
    "        try:\n",
    "            ask_layout = input(\"Vui lòng chọn Layout: \")    \n",
    "            if ask_layout == '0' or int(ask_layout):\n",
    "                layout = layouts[int(ask_layout)]\n",
    "                break\n",
    "        except:\n",
    "            continue\n",
    "    logging.info(layout.Name)\n",
    "    \n",
    "    \"\"\"\n",
    "    \n",
    "    \"\"\"\n",
    "    print('\\n'.join([\"0 : Show\",\"1 : Hide\"]))\n",
    "    while True:\n",
    "        ask_show_hide = input('Bạn muốn show or hide ? ')\n",
    "        if ask_show_hide == \"0\":\n",
    "            show = True\n",
    "            break\n",
    "        elif  ask_show_hide == \"1\":\n",
    "            show = False\n",
    "            break\n",
    "\n",
    "    show_hide_items_in_doc(cad_doc,item_type = \"Dimension\", show = show)\"\"\""
   ]
  },
  {
   "cell_type": "code",
   "execution_count": null,
   "id": "1e3aa12e-b8b9-4ba8-953d-f2ffe1151cb9",
   "metadata": {
    "tags": []
   },
   "outputs": [],
   "source": [
    "   # VIEWPORT BY ACTIVE FIRST\n",
    "    print(\"Bạn cần active vào Viewport bạn muốn xử lí\")\n",
    "    active_viewport = cad_doc.ActivePViewport\n",
    "    logging.info(f\"{active_viewport.ObjectName} {round(active_viewport.Width)} x {round(active_viewport.Height)}\")"
   ]
  },
  {
   "cell_type": "code",
   "execution_count": 24,
   "id": "89812ab5-3718-48ae-9e1d-e647888ccd4e",
   "metadata": {
    "collapsed": true,
    "jupyter": {
     "outputs_hidden": true
    },
    "tags": []
   },
   "outputs": [
    {
     "name": "stdin",
     "output_type": "stream",
     "text": [
      "Nhập tên file xref:  220210602A01XUONG2FACTORY2SHOP\n"
     ]
    },
    {
     "name": "stdout",
     "output_type": "stream",
     "text": [
      "K:\\_WFH DANON\\_DOC\\2.6-Combine\\2.6-Combine\\2021-06-03 Combine dot dieu chinh sau chot mb kien truc xuogn 2\\220210602A01XUONG2FACTORY2SHOP.dwg\n"
     ]
    }
   ],
   "source": [
    "#-------------------------------------------------------------------------------------#\n",
    "# TRYING TO OPEN XREF, BUT FAIL WITH BIG CAD FILE\n",
    "all_items = [model_space.Item(i) for i in range(model_space.Count)]\n",
    "test_xref = None\n",
    "name = input(\"Nhập tên file xref: \")\n",
    "for i in all_items:\n",
    "    try:\n",
    "        if 'Block' in i.ObjectName and name in i.Path:\n",
    "            test_xref = i\n",
    "    except:\n",
    "        pass\n",
    "full_name = cad_doc.FullName\n",
    "dir_folder = full_name[:-len(full_name.split('\\\\')[-1])]\n",
    "xref_path = test_xref.Path\n",
    "\n",
    "if xref_path[0] == '.':\n",
    "    xref_path = f\"{dir_folder}{xref_path[2:]}\"\n",
    "time.sleep(1)\n",
    "print(xref_path)\n"
   ]
  },
  {
   "cell_type": "code",
   "execution_count": 25,
   "id": "a6e874a2-b083-4963-9bca-bef008d0bbf6",
   "metadata": {
    "collapsed": true,
    "jupyter": {
     "outputs_hidden": true
    },
    "tags": []
   },
   "outputs": [
    {
     "ename": "COMError",
     "evalue": "(-2147352567, 'Exception occurred.', ('Error Decrypting Data', 'AutoCAD', 'C:\\\\Program Files\\\\Autodesk\\\\AutoCAD 2019\\\\HELP\\\\OLE_ERR.CHM', -2145386153, None))",
     "output_type": "error",
     "traceback": [
      "\u001b[1;31m---------------------------------------------------------------------------\u001b[0m",
      "\u001b[1;31mCOMError\u001b[0m                                  Traceback (most recent call last)",
      "\u001b[1;32m<ipython-input-25-b7d9c69a9f0c>\u001b[0m in \u001b[0;36m<module>\u001b[1;34m\u001b[0m\n\u001b[1;32m----> 1\u001b[1;33m \u001b[0mxref_doc\u001b[0m \u001b[1;33m=\u001b[0m \u001b[0mopen_file\u001b[0m\u001b[1;33m(\u001b[0m\u001b[0macad\u001b[0m\u001b[1;33m,\u001b[0m\u001b[0mpath\u001b[0m \u001b[1;33m=\u001b[0m \u001b[0mxref_path\u001b[0m\u001b[1;33m)\u001b[0m\u001b[1;33m\u001b[0m\u001b[1;33m\u001b[0m\u001b[0m\n\u001b[0m\u001b[0;32m      2\u001b[0m \u001b[0mtime\u001b[0m\u001b[1;33m.\u001b[0m\u001b[0msleep\u001b[0m\u001b[1;33m(\u001b[0m\u001b[1;36m15\u001b[0m\u001b[1;33m)\u001b[0m\u001b[1;33m\u001b[0m\u001b[1;33m\u001b[0m\u001b[0m\n\u001b[0;32m      3\u001b[0m \u001b[0mhide_items_in_doc\u001b[0m\u001b[1;33m(\u001b[0m\u001b[0mxref_doc\u001b[0m\u001b[1;33m,\u001b[0m\u001b[0mitem_type\u001b[0m \u001b[1;33m=\u001b[0m \u001b[1;34m\"Text\"\u001b[0m\u001b[1;33m)\u001b[0m\u001b[1;33m\u001b[0m\u001b[1;33m\u001b[0m\u001b[0m\n",
      "\u001b[1;32m<ipython-input-20-9e368dc8b190>\u001b[0m in \u001b[0;36mopen_file\u001b[1;34m(acad, path)\u001b[0m\n\u001b[0;32m    116\u001b[0m     \u001b[1;32mwhile\u001b[0m \u001b[1;32mTrue\u001b[0m\u001b[1;33m:\u001b[0m\u001b[1;33m\u001b[0m\u001b[1;33m\u001b[0m\u001b[0m\n\u001b[0;32m    117\u001b[0m         \u001b[1;32mif\u001b[0m \u001b[1;32mnot\u001b[0m \u001b[0mfile_name\u001b[0m \u001b[1;32min\u001b[0m \u001b[0mdoc_names\u001b[0m\u001b[1;33m:\u001b[0m\u001b[1;33m\u001b[0m\u001b[1;33m\u001b[0m\u001b[0m\n\u001b[1;32m--> 118\u001b[1;33m             \u001b[0macad\u001b[0m\u001b[1;33m.\u001b[0m\u001b[0mapp\u001b[0m\u001b[1;33m.\u001b[0m\u001b[0mDocuments\u001b[0m\u001b[1;33m.\u001b[0m\u001b[0mOpen\u001b[0m\u001b[1;33m(\u001b[0m\u001b[0mpath\u001b[0m\u001b[1;33m)\u001b[0m\u001b[1;33m\u001b[0m\u001b[1;33m\u001b[0m\u001b[0m\n\u001b[0m\u001b[0;32m    119\u001b[0m             \u001b[0mdocs\u001b[0m \u001b[1;33m=\u001b[0m \u001b[0macad\u001b[0m\u001b[1;33m.\u001b[0m\u001b[0mapp\u001b[0m\u001b[1;33m.\u001b[0m\u001b[0mDocuments\u001b[0m \u001b[1;31m# print(cad_doc.Name)\u001b[0m\u001b[1;33m\u001b[0m\u001b[1;33m\u001b[0m\u001b[0m\n\u001b[0;32m    120\u001b[0m             \u001b[0mdoc_names\u001b[0m \u001b[1;33m=\u001b[0m \u001b[1;33m[\u001b[0m\u001b[0md\u001b[0m\u001b[1;33m.\u001b[0m\u001b[0mName\u001b[0m \u001b[1;32mfor\u001b[0m \u001b[0md\u001b[0m \u001b[1;32min\u001b[0m \u001b[0mdocs\u001b[0m\u001b[1;33m]\u001b[0m\u001b[1;33m\u001b[0m\u001b[1;33m\u001b[0m\u001b[0m\n",
      "\u001b[1;32mc:\\users\\user\\appdata\\local\\programs\\python\\python39\\lib\\site-packages\\comtypes\\client\\lazybind.py\u001b[0m in \u001b[0;36mcaller\u001b[1;34m(*args)\u001b[0m\n\u001b[0;32m    180\u001b[0m             \u001b[1;31m# DISPATCH_METHOD\u001b[0m\u001b[1;33m\u001b[0m\u001b[1;33m\u001b[0m\u001b[1;33m\u001b[0m\u001b[0m\n\u001b[0;32m    181\u001b[0m             \u001b[1;32mdef\u001b[0m \u001b[0mcaller\u001b[0m\u001b[1;33m(\u001b[0m\u001b[1;33m*\u001b[0m\u001b[0margs\u001b[0m\u001b[1;33m)\u001b[0m\u001b[1;33m:\u001b[0m\u001b[1;33m\u001b[0m\u001b[1;33m\u001b[0m\u001b[0m\n\u001b[1;32m--> 182\u001b[1;33m                 \u001b[1;32mreturn\u001b[0m \u001b[0mself\u001b[0m\u001b[1;33m.\u001b[0m\u001b[0m_comobj\u001b[0m\u001b[1;33m.\u001b[0m\u001b[0m_invoke\u001b[0m\u001b[1;33m(\u001b[0m\u001b[0mdescr\u001b[0m\u001b[1;33m.\u001b[0m\u001b[0mmemid\u001b[0m\u001b[1;33m,\u001b[0m \u001b[0mdescr\u001b[0m\u001b[1;33m.\u001b[0m\u001b[0minvkind\u001b[0m\u001b[1;33m,\u001b[0m \u001b[1;36m0\u001b[0m\u001b[1;33m,\u001b[0m \u001b[1;33m*\u001b[0m\u001b[0margs\u001b[0m\u001b[1;33m)\u001b[0m\u001b[1;33m\u001b[0m\u001b[1;33m\u001b[0m\u001b[0m\n\u001b[0m\u001b[0;32m    183\u001b[0m             \u001b[1;32mtry\u001b[0m\u001b[1;33m:\u001b[0m\u001b[1;33m\u001b[0m\u001b[1;33m\u001b[0m\u001b[0m\n\u001b[0;32m    184\u001b[0m                 \u001b[0mcaller\u001b[0m\u001b[1;33m.\u001b[0m\u001b[0m__name__\u001b[0m \u001b[1;33m=\u001b[0m \u001b[0mname\u001b[0m\u001b[1;33m\u001b[0m\u001b[1;33m\u001b[0m\u001b[0m\n",
      "\u001b[1;32mc:\\users\\user\\appdata\\local\\programs\\python\\python39\\lib\\site-packages\\comtypes\\automation.py\u001b[0m in \u001b[0;36m_invoke\u001b[1;34m(self, memid, invkind, lcid, *args)\u001b[0m\n\u001b[0;32m    726\u001b[0m             \u001b[0mdp\u001b[0m\u001b[1;33m.\u001b[0m\u001b[0mrgvarg\u001b[0m \u001b[1;33m=\u001b[0m \u001b[0marray\u001b[0m\u001b[1;33m\u001b[0m\u001b[1;33m\u001b[0m\u001b[0m\n\u001b[0;32m    727\u001b[0m \u001b[1;33m\u001b[0m\u001b[0m\n\u001b[1;32m--> 728\u001b[1;33m         self.__com_Invoke(memid, riid_null, lcid, invkind,\n\u001b[0m\u001b[0;32m    729\u001b[0m                           dp, var, None, argerr)\n\u001b[0;32m    730\u001b[0m         \u001b[1;32mreturn\u001b[0m \u001b[0mvar\u001b[0m\u001b[1;33m.\u001b[0m\u001b[0m_get_value\u001b[0m\u001b[1;33m(\u001b[0m\u001b[0mdynamic\u001b[0m\u001b[1;33m=\u001b[0m\u001b[1;32mTrue\u001b[0m\u001b[1;33m)\u001b[0m\u001b[1;33m\u001b[0m\u001b[1;33m\u001b[0m\u001b[0m\n",
      "\u001b[1;31mCOMError\u001b[0m: (-2147352567, 'Exception occurred.', ('Error Decrypting Data', 'AutoCAD', 'C:\\\\Program Files\\\\Autodesk\\\\AutoCAD 2019\\\\HELP\\\\OLE_ERR.CHM', -2145386153, None))"
     ]
    }
   ],
   "source": [
    "xref_doc = open_file(acad,path = xref_path)\n",
    "time.sleep(15)\n",
    "hide_items_in_doc(xref_doc,item_type = \"Text\")"
   ]
  },
  {
   "cell_type": "code",
   "execution_count": 23,
   "id": "2c67aca9-238c-42c5-b419-0cf9ca22b035",
   "metadata": {},
   "outputs": [
    {
     "name": "stdout",
     "output_type": "stream",
     "text": [
      "x-01-xuong 2\n",
      "220210602A01XUONG2FACTORY2SHOP\n",
      "5A01XUONG 2FACTORY 2CEILING\n",
      "block 1\n",
      "Drawing2\n",
      "Drawing3\n"
     ]
    }
   ],
   "source": [
    "all_items = [model_space.Item(i) for i in range(model_space.Count)]\n",
    "for i in all_items:\n",
    "    try:\n",
    "        print(i.Name)\n",
    "    except:\n",
    "        pass"
   ]
  },
  {
   "cell_type": "code",
   "execution_count": 25,
   "id": "cc657cef-8ea3-4316-b02b-522cc076eade",
   "metadata": {},
   "outputs": [
    {
     "name": "stdout",
     "output_type": "stream",
     "text": [
      "Select objects\n"
     ]
    },
    {
     "data": {
      "text/plain": [
       "'dim'"
      ]
     },
     "execution_count": 25,
     "metadata": {},
     "output_type": "execute_result"
    }
   ],
   "source": [
    "dim = cad_selector(cad_doc,'dim',promp=\"Select objects\")\n",
    "dim.Name"
   ]
  },
  {
   "cell_type": "code",
   "execution_count": 32,
   "id": "ee65d98f-5f1b-443a-b4cd-4ef80815fc1d",
   "metadata": {},
   "outputs": [],
   "source": [
    "color = model_space.Item(0).TrueColor\n",
    "color.SetRGB(255,0,0)\n",
    "dim.Item(0).TrueColor = color\n",
    "dim.Item(0).DimensionLineColor = color.ColorIndex\n",
    "dim.Item(0).ExtensionLineColor = color.ColorIndex\n",
    "dim.Item(0).TextColor = color.ColorIndex"
   ]
  },
  {
   "cell_type": "code",
   "execution_count": 35,
   "id": "c68bc028-7fe0-489a-8cec-8e242ea234c8",
   "metadata": {},
   "outputs": [
    {
     "name": "stdout",
     "output_type": "stream",
     "text": [
      "block 1\n",
      "BLOCK BLOCK BLOCK\n"
     ]
    }
   ],
   "source": [
    "for i in range(model_space.Count):\n",
    "    try:\n",
    "        item = model_space.Item(i)\n",
    "        print(item.Name)\n",
    "    except:\n",
    "        pass"
   ]
  },
  {
   "cell_type": "code",
   "execution_count": 36,
   "id": "4cbd30e1-2a94-441a-a421-f575a79b561c",
   "metadata": {},
   "outputs": [
    {
     "name": "stdout",
     "output_type": "stream",
     "text": [
      "Select objects\n"
     ]
    },
    {
     "data": {
      "text/plain": [
       "'dim'"
      ]
     },
     "execution_count": 36,
     "metadata": {},
     "output_type": "execute_result"
    }
   ],
   "source": [
    "block = cad_selector(cad_doc,'block_',promp=\"Select objects\")"
   ]
  },
  {
   "cell_type": "code",
   "execution_count": 40,
   "id": "607ce093-c072-4159-9028-ae458c6449c8",
   "metadata": {},
   "outputs": [
    {
     "data": {
      "text/plain": [
       "'BLOCK BLOCK BLOCK'"
      ]
     },
     "execution_count": 40,
     "metadata": {},
     "output_type": "execute_result"
    }
   ],
   "source": [
    "block[0].Name"
   ]
  },
  {
   "cell_type": "code",
   "execution_count": 45,
   "id": "e0a2f1a2-b9b5-4dd9-8640-98a85bcb18b3",
   "metadata": {},
   "outputs": [
    {
     "name": "stdout",
     "output_type": "stream",
     "text": [
      "{0: [<comtypes.client.lazybind.Dispatch object at 0x000002003CD80D90>, False], 1: [<comtypes.client.lazybind.Dispatch object at 0x000002007D563400>, False], 2: [<comtypes.client.lazybind.Dispatch object at 0x000002007D563100>, False], 3: [<comtypes.client.lazybind.Dispatch object at 0x000002007D3A3C70>, False], 4: [<comtypes.client.lazybind.Dispatch object at 0x000002007D3A36D0>, False], 5: [<comtypes.client.lazybind.Dispatch object at 0x000002007D3959A0>, False], 6: [<comtypes.client.lazybind.Dispatch object at 0x000002007D395070>, False], 7: [<comtypes.client.lazybind.Dispatch object at 0x000002007D395580>, False], 8: [<comtypes.client.lazybind.Dispatch object at 0x000002007D395EB0>, False], 9: [<comtypes.client.lazybind.Dispatch object at 0x000002007D395C40>, False], 10: [<comtypes.client.lazybind.Dispatch object at 0x000002007D3956D0>, False], 11: [<comtypes.client.lazybind.Dispatch object at 0x000002007D395340>, False], 12: [<comtypes.client.lazybind.Dispatch object at 0x000002007D395370>, False], 13: [<comtypes.client.lazybind.Dispatch object at 0x000002007D3954C0>, False], 14: [<comtypes.client.lazybind.Dispatch object at 0x000002007D395460>, False], 15: [<comtypes.client.lazybind.Dispatch object at 0x000002007D395400>, False]}\n",
      "{0: [<comtypes.client.lazybind.Dispatch object at 0x000002003CD80D90>, False], 1: [<comtypes.client.lazybind.Dispatch object at 0x000002007D563400>, False], 2: [<comtypes.client.lazybind.Dispatch object at 0x000002007D563100>, False], 3: [<comtypes.client.lazybind.Dispatch object at 0x000002007D3A3C70>, False], 4: [<comtypes.client.lazybind.Dispatch object at 0x000002007D3A36D0>, False], 5: [<comtypes.client.lazybind.Dispatch object at 0x000002007D3959A0>, False], 6: [<comtypes.client.lazybind.Dispatch object at 0x000002007D395070>, False], 7: [<comtypes.client.lazybind.Dispatch object at 0x000002007D395580>, False], 8: [<comtypes.client.lazybind.Dispatch object at 0x000002007D395EB0>, False], 9: [<comtypes.client.lazybind.Dispatch object at 0x000002007D395C40>, False], 10: [<comtypes.client.lazybind.Dispatch object at 0x000002007D3956D0>, False], 11: [<comtypes.client.lazybind.Dispatch object at 0x000002007D395340>, False], 12: [<comtypes.client.lazybind.Dispatch object at 0x000002007D395370>, False], 13: [<comtypes.client.lazybind.Dispatch object at 0x000002007D3954C0>, False], 14: [<comtypes.client.lazybind.Dispatch object at 0x000002007D395460>, False], 15: [<comtypes.client.lazybind.Dispatch object at 0x000002007D395400>, False]}\n",
      "{0: [<comtypes.client.lazybind.Dispatch object at 0x000002003CD80D90>, False], 1: [<comtypes.client.lazybind.Dispatch object at 0x000002007D563400>, False], 2: [<comtypes.client.lazybind.Dispatch object at 0x000002007D563100>, False], 3: [<comtypes.client.lazybind.Dispatch object at 0x000002007D3A3C70>, False], 4: [<comtypes.client.lazybind.Dispatch object at 0x000002007D3A36D0>, False], 5: [<comtypes.client.lazybind.Dispatch object at 0x000002007D3959A0>, False], 6: [<comtypes.client.lazybind.Dispatch object at 0x000002007D395070>, False], 7: [<comtypes.client.lazybind.Dispatch object at 0x000002007D395580>, False], 8: [<comtypes.client.lazybind.Dispatch object at 0x000002007D395EB0>, False], 9: [<comtypes.client.lazybind.Dispatch object at 0x000002007D395C40>, False], 10: [<comtypes.client.lazybind.Dispatch object at 0x000002007D3956D0>, False], 11: [<comtypes.client.lazybind.Dispatch object at 0x000002007D395340>, False], 12: [<comtypes.client.lazybind.Dispatch object at 0x000002007D395370>, False], 13: [<comtypes.client.lazybind.Dispatch object at 0x000002007D3954C0>, False], 14: [<comtypes.client.lazybind.Dispatch object at 0x000002007D395460>, False], 15: [<comtypes.client.lazybind.Dispatch object at 0x000002007D395400>, False]}\n",
      "{0: [<comtypes.client.lazybind.Dispatch object at 0x000002003CD80D90>, False], 1: [<comtypes.client.lazybind.Dispatch object at 0x000002007D563400>, False], 2: [<comtypes.client.lazybind.Dispatch object at 0x000002007D563100>, False], 3: [<comtypes.client.lazybind.Dispatch object at 0x000002007D3A3C70>, False], 4: [<comtypes.client.lazybind.Dispatch object at 0x000002007D3A36D0>, False], 5: [<comtypes.client.lazybind.Dispatch object at 0x000002007D3959A0>, False], 6: [<comtypes.client.lazybind.Dispatch object at 0x000002007D395070>, False], 7: [<comtypes.client.lazybind.Dispatch object at 0x000002007D395580>, False], 8: [<comtypes.client.lazybind.Dispatch object at 0x000002007D395EB0>, False], 9: [<comtypes.client.lazybind.Dispatch object at 0x000002007D395C40>, False], 10: [<comtypes.client.lazybind.Dispatch object at 0x000002007D3956D0>, False], 11: [<comtypes.client.lazybind.Dispatch object at 0x000002007D395340>, False], 12: [<comtypes.client.lazybind.Dispatch object at 0x000002007D395370>, False], 13: [<comtypes.client.lazybind.Dispatch object at 0x000002007D3954C0>, False], 14: [<comtypes.client.lazybind.Dispatch object at 0x000002007D395460>, False], 15: [<comtypes.client.lazybind.Dispatch object at 0x000002007D395400>, False]}\n",
      "{0: [<comtypes.client.lazybind.Dispatch object at 0x000002003CD80D90>, False], 1: [<comtypes.client.lazybind.Dispatch object at 0x000002007D563400>, False], 2: [<comtypes.client.lazybind.Dispatch object at 0x000002007D563100>, False], 3: [<comtypes.client.lazybind.Dispatch object at 0x000002007D3A3C70>, False], 4: [<comtypes.client.lazybind.Dispatch object at 0x000002007D3A36D0>, False], 5: [<comtypes.client.lazybind.Dispatch object at 0x000002007D3959A0>, False], 6: [<comtypes.client.lazybind.Dispatch object at 0x000002007D395070>, False], 7: [<comtypes.client.lazybind.Dispatch object at 0x000002007D395580>, False], 8: [<comtypes.client.lazybind.Dispatch object at 0x000002007D395EB0>, False], 9: [<comtypes.client.lazybind.Dispatch object at 0x000002007D395C40>, False], 10: [<comtypes.client.lazybind.Dispatch object at 0x000002007D3956D0>, False], 11: [<comtypes.client.lazybind.Dispatch object at 0x000002007D395340>, False], 12: [<comtypes.client.lazybind.Dispatch object at 0x000002007D395370>, False], 13: [<comtypes.client.lazybind.Dispatch object at 0x000002007D3954C0>, False], 14: [<comtypes.client.lazybind.Dispatch object at 0x000002007D395460>, False], 15: [<comtypes.client.lazybind.Dispatch object at 0x000002007D395400>, False]}\n",
      "{0: [<comtypes.client.lazybind.Dispatch object at 0x000002003CD80D90>, False], 1: [<comtypes.client.lazybind.Dispatch object at 0x000002007D563400>, False], 2: [<comtypes.client.lazybind.Dispatch object at 0x000002007D563100>, False], 3: [<comtypes.client.lazybind.Dispatch object at 0x000002007D3A3C70>, False], 4: [<comtypes.client.lazybind.Dispatch object at 0x000002007D3A36D0>, False], 5: [<comtypes.client.lazybind.Dispatch object at 0x000002007D3959A0>, False], 6: [<comtypes.client.lazybind.Dispatch object at 0x000002007D395070>, False], 7: [<comtypes.client.lazybind.Dispatch object at 0x000002007D395580>, False], 8: [<comtypes.client.lazybind.Dispatch object at 0x000002007D395EB0>, False], 9: [<comtypes.client.lazybind.Dispatch object at 0x000002007D395C40>, False], 10: [<comtypes.client.lazybind.Dispatch object at 0x000002007D3956D0>, False], 11: [<comtypes.client.lazybind.Dispatch object at 0x000002007D395340>, False], 12: [<comtypes.client.lazybind.Dispatch object at 0x000002007D395370>, False], 13: [<comtypes.client.lazybind.Dispatch object at 0x000002007D3954C0>, False], 14: [<comtypes.client.lazybind.Dispatch object at 0x000002007D395460>, False], 15: [<comtypes.client.lazybind.Dispatch object at 0x000002007D395400>, False]}\n",
      "{0: [<comtypes.client.lazybind.Dispatch object at 0x000002003CD80D90>, False], 1: [<comtypes.client.lazybind.Dispatch object at 0x000002007D563400>, False], 2: [<comtypes.client.lazybind.Dispatch object at 0x000002007D563100>, False], 3: [<comtypes.client.lazybind.Dispatch object at 0x000002007D3A3C70>, False], 4: [<comtypes.client.lazybind.Dispatch object at 0x000002007D3A36D0>, False], 5: [<comtypes.client.lazybind.Dispatch object at 0x000002007D3959A0>, False], 6: [<comtypes.client.lazybind.Dispatch object at 0x000002007D395070>, False], 7: [<comtypes.client.lazybind.Dispatch object at 0x000002007D395580>, False], 8: [<comtypes.client.lazybind.Dispatch object at 0x000002007D395EB0>, False], 9: [<comtypes.client.lazybind.Dispatch object at 0x000002007D395C40>, False], 10: [<comtypes.client.lazybind.Dispatch object at 0x000002007D3956D0>, False], 11: [<comtypes.client.lazybind.Dispatch object at 0x000002007D395340>, False], 12: [<comtypes.client.lazybind.Dispatch object at 0x000002007D395370>, False], 13: [<comtypes.client.lazybind.Dispatch object at 0x000002007D3954C0>, False], 14: [<comtypes.client.lazybind.Dispatch object at 0x000002007D395460>, False], 15: [<comtypes.client.lazybind.Dispatch object at 0x000002007D395400>, False]}\n",
      "{0: [<comtypes.client.lazybind.Dispatch object at 0x000002003CD80D90>, False], 1: [<comtypes.client.lazybind.Dispatch object at 0x000002007D563400>, False], 2: [<comtypes.client.lazybind.Dispatch object at 0x000002007D563100>, False], 3: [<comtypes.client.lazybind.Dispatch object at 0x000002007D3A3C70>, False], 4: [<comtypes.client.lazybind.Dispatch object at 0x000002007D3A36D0>, False], 5: [<comtypes.client.lazybind.Dispatch object at 0x000002007D3959A0>, False], 6: [<comtypes.client.lazybind.Dispatch object at 0x000002007D395070>, False], 7: [<comtypes.client.lazybind.Dispatch object at 0x000002007D395580>, False], 8: [<comtypes.client.lazybind.Dispatch object at 0x000002007D395EB0>, False], 9: [<comtypes.client.lazybind.Dispatch object at 0x000002007D395C40>, False], 10: [<comtypes.client.lazybind.Dispatch object at 0x000002007D3956D0>, False], 11: [<comtypes.client.lazybind.Dispatch object at 0x000002007D395340>, False], 12: [<comtypes.client.lazybind.Dispatch object at 0x000002007D395370>, False], 13: [<comtypes.client.lazybind.Dispatch object at 0x000002007D3954C0>, False], 14: [<comtypes.client.lazybind.Dispatch object at 0x000002007D395460>, False], 15: [<comtypes.client.lazybind.Dispatch object at 0x000002007D395400>, False]}\n",
      "{0: [<comtypes.client.lazybind.Dispatch object at 0x000002003CD80D90>, False], 1: [<comtypes.client.lazybind.Dispatch object at 0x000002007D563400>, False], 2: [<comtypes.client.lazybind.Dispatch object at 0x000002007D563100>, False], 3: [<comtypes.client.lazybind.Dispatch object at 0x000002007D3A3C70>, False], 4: [<comtypes.client.lazybind.Dispatch object at 0x000002007D3A36D0>, False], 5: [<comtypes.client.lazybind.Dispatch object at 0x000002007D3959A0>, False], 6: [<comtypes.client.lazybind.Dispatch object at 0x000002007D395070>, False], 7: [<comtypes.client.lazybind.Dispatch object at 0x000002007D395580>, False], 8: [<comtypes.client.lazybind.Dispatch object at 0x000002007D395EB0>, False], 9: [<comtypes.client.lazybind.Dispatch object at 0x000002007D395C40>, False], 10: [<comtypes.client.lazybind.Dispatch object at 0x000002007D3956D0>, False], 11: [<comtypes.client.lazybind.Dispatch object at 0x000002007D395340>, False], 12: [<comtypes.client.lazybind.Dispatch object at 0x000002007D395370>, False], 13: [<comtypes.client.lazybind.Dispatch object at 0x000002007D3954C0>, False], 14: [<comtypes.client.lazybind.Dispatch object at 0x000002007D395460>, False], 15: [<comtypes.client.lazybind.Dispatch object at 0x000002007D395400>, False]}\n",
      "{0: [<comtypes.client.lazybind.Dispatch object at 0x000002003CD80D90>, False], 1: [<comtypes.client.lazybind.Dispatch object at 0x000002007D563400>, False], 2: [<comtypes.client.lazybind.Dispatch object at 0x000002007D563100>, False], 3: [<comtypes.client.lazybind.Dispatch object at 0x000002007D3A3C70>, False], 4: [<comtypes.client.lazybind.Dispatch object at 0x000002007D3A36D0>, False], 5: [<comtypes.client.lazybind.Dispatch object at 0x000002007D3959A0>, False], 6: [<comtypes.client.lazybind.Dispatch object at 0x000002007D395070>, False], 7: [<comtypes.client.lazybind.Dispatch object at 0x000002007D395580>, False], 8: [<comtypes.client.lazybind.Dispatch object at 0x000002007D395EB0>, False], 9: [<comtypes.client.lazybind.Dispatch object at 0x000002007D395C40>, False], 10: [<comtypes.client.lazybind.Dispatch object at 0x000002007D3956D0>, False], 11: [<comtypes.client.lazybind.Dispatch object at 0x000002007D395340>, False], 12: [<comtypes.client.lazybind.Dispatch object at 0x000002007D395370>, False], 13: [<comtypes.client.lazybind.Dispatch object at 0x000002007D3954C0>, False], 14: [<comtypes.client.lazybind.Dispatch object at 0x000002007D395460>, False], 15: [<comtypes.client.lazybind.Dispatch object at 0x000002007D395400>, False]}\n",
      "{0: [<comtypes.client.lazybind.Dispatch object at 0x000002003CD80D90>, False], 1: [<comtypes.client.lazybind.Dispatch object at 0x000002007D563400>, False], 2: [<comtypes.client.lazybind.Dispatch object at 0x000002007D563100>, False], 3: [<comtypes.client.lazybind.Dispatch object at 0x000002007D3A3C70>, False], 4: [<comtypes.client.lazybind.Dispatch object at 0x000002007D3A36D0>, False], 5: [<comtypes.client.lazybind.Dispatch object at 0x000002007D3959A0>, False], 6: [<comtypes.client.lazybind.Dispatch object at 0x000002007D395070>, False], 7: [<comtypes.client.lazybind.Dispatch object at 0x000002007D395580>, False], 8: [<comtypes.client.lazybind.Dispatch object at 0x000002007D395EB0>, False], 9: [<comtypes.client.lazybind.Dispatch object at 0x000002007D395C40>, False], 10: [<comtypes.client.lazybind.Dispatch object at 0x000002007D3956D0>, False], 11: [<comtypes.client.lazybind.Dispatch object at 0x000002007D395340>, False], 12: [<comtypes.client.lazybind.Dispatch object at 0x000002007D395370>, False], 13: [<comtypes.client.lazybind.Dispatch object at 0x000002007D3954C0>, False], 14: [<comtypes.client.lazybind.Dispatch object at 0x000002007D395460>, False], 15: [<comtypes.client.lazybind.Dispatch object at 0x000002007D395400>, False]}\n",
      "{0: [<comtypes.client.lazybind.Dispatch object at 0x000002003CD80D90>, False], 1: [<comtypes.client.lazybind.Dispatch object at 0x000002007D563400>, False], 2: [<comtypes.client.lazybind.Dispatch object at 0x000002007D563100>, False], 3: [<comtypes.client.lazybind.Dispatch object at 0x000002007D3A3C70>, False], 4: [<comtypes.client.lazybind.Dispatch object at 0x000002007D3A36D0>, False], 5: [<comtypes.client.lazybind.Dispatch object at 0x000002007D3959A0>, False], 6: [<comtypes.client.lazybind.Dispatch object at 0x000002007D395070>, False], 7: [<comtypes.client.lazybind.Dispatch object at 0x000002007D395580>, False], 8: [<comtypes.client.lazybind.Dispatch object at 0x000002007D395EB0>, False], 9: [<comtypes.client.lazybind.Dispatch object at 0x000002007D395C40>, False], 10: [<comtypes.client.lazybind.Dispatch object at 0x000002007D3956D0>, False], 11: [<comtypes.client.lazybind.Dispatch object at 0x000002007D395340>, False], 12: [<comtypes.client.lazybind.Dispatch object at 0x000002007D395370>, False], 13: [<comtypes.client.lazybind.Dispatch object at 0x000002007D3954C0>, False], 14: [<comtypes.client.lazybind.Dispatch object at 0x000002007D395460>, False], 15: [<comtypes.client.lazybind.Dispatch object at 0x000002007D395400>, False]}\n",
      "{0: [<comtypes.client.lazybind.Dispatch object at 0x000002003CD80D90>, False], 1: [<comtypes.client.lazybind.Dispatch object at 0x000002007D563400>, False], 2: [<comtypes.client.lazybind.Dispatch object at 0x000002007D563100>, False], 3: [<comtypes.client.lazybind.Dispatch object at 0x000002007D3A3C70>, False], 4: [<comtypes.client.lazybind.Dispatch object at 0x000002007D3A36D0>, False], 5: [<comtypes.client.lazybind.Dispatch object at 0x000002007D3959A0>, False], 6: [<comtypes.client.lazybind.Dispatch object at 0x000002007D395070>, False], 7: [<comtypes.client.lazybind.Dispatch object at 0x000002007D395580>, False], 8: [<comtypes.client.lazybind.Dispatch object at 0x000002007D395EB0>, False], 9: [<comtypes.client.lazybind.Dispatch object at 0x000002007D395C40>, False], 10: [<comtypes.client.lazybind.Dispatch object at 0x000002007D3956D0>, False], 11: [<comtypes.client.lazybind.Dispatch object at 0x000002007D395340>, False], 12: [<comtypes.client.lazybind.Dispatch object at 0x000002007D395370>, False], 13: [<comtypes.client.lazybind.Dispatch object at 0x000002007D3954C0>, False], 14: [<comtypes.client.lazybind.Dispatch object at 0x000002007D395460>, False], 15: [<comtypes.client.lazybind.Dispatch object at 0x000002007D395400>, False]}\n",
      "{0: [<comtypes.client.lazybind.Dispatch object at 0x000002003CD80D90>, False], 1: [<comtypes.client.lazybind.Dispatch object at 0x000002007D563400>, False], 2: [<comtypes.client.lazybind.Dispatch object at 0x000002007D563100>, False], 3: [<comtypes.client.lazybind.Dispatch object at 0x000002007D3A3C70>, False], 4: [<comtypes.client.lazybind.Dispatch object at 0x000002007D3A36D0>, False], 5: [<comtypes.client.lazybind.Dispatch object at 0x000002007D3959A0>, False], 6: [<comtypes.client.lazybind.Dispatch object at 0x000002007D395070>, False], 7: [<comtypes.client.lazybind.Dispatch object at 0x000002007D395580>, False], 8: [<comtypes.client.lazybind.Dispatch object at 0x000002007D395EB0>, False], 9: [<comtypes.client.lazybind.Dispatch object at 0x000002007D395C40>, False], 10: [<comtypes.client.lazybind.Dispatch object at 0x000002007D3956D0>, False], 11: [<comtypes.client.lazybind.Dispatch object at 0x000002007D395340>, False], 12: [<comtypes.client.lazybind.Dispatch object at 0x000002007D395370>, False], 13: [<comtypes.client.lazybind.Dispatch object at 0x000002007D3954C0>, False], 14: [<comtypes.client.lazybind.Dispatch object at 0x000002007D395460>, False], 15: [<comtypes.client.lazybind.Dispatch object at 0x000002007D395400>, False]}\n",
      "{0: [<comtypes.client.lazybind.Dispatch object at 0x000002003CD80D90>, False], 1: [<comtypes.client.lazybind.Dispatch object at 0x000002007D563400>, False], 2: [<comtypes.client.lazybind.Dispatch object at 0x000002007D563100>, False], 3: [<comtypes.client.lazybind.Dispatch object at 0x000002007D3A3C70>, False], 4: [<comtypes.client.lazybind.Dispatch object at 0x000002007D3A36D0>, False], 5: [<comtypes.client.lazybind.Dispatch object at 0x000002007D3959A0>, False], 6: [<comtypes.client.lazybind.Dispatch object at 0x000002007D395070>, False], 7: [<comtypes.client.lazybind.Dispatch object at 0x000002007D395580>, False], 8: [<comtypes.client.lazybind.Dispatch object at 0x000002007D395EB0>, False], 9: [<comtypes.client.lazybind.Dispatch object at 0x000002007D395C40>, False], 10: [<comtypes.client.lazybind.Dispatch object at 0x000002007D3956D0>, False], 11: [<comtypes.client.lazybind.Dispatch object at 0x000002007D395340>, False], 12: [<comtypes.client.lazybind.Dispatch object at 0x000002007D395370>, False], 13: [<comtypes.client.lazybind.Dispatch object at 0x000002007D3954C0>, False], 14: [<comtypes.client.lazybind.Dispatch object at 0x000002007D395460>, False], 15: [<comtypes.client.lazybind.Dispatch object at 0x000002007D395400>, False]}\n",
      "{0: [<comtypes.client.lazybind.Dispatch object at 0x000002003CD80D90>, False], 1: [<comtypes.client.lazybind.Dispatch object at 0x000002007D563400>, False], 2: [<comtypes.client.lazybind.Dispatch object at 0x000002007D563100>, False], 3: [<comtypes.client.lazybind.Dispatch object at 0x000002007D3A3C70>, False], 4: [<comtypes.client.lazybind.Dispatch object at 0x000002007D3A36D0>, False], 5: [<comtypes.client.lazybind.Dispatch object at 0x000002007D3959A0>, False], 6: [<comtypes.client.lazybind.Dispatch object at 0x000002007D395070>, False], 7: [<comtypes.client.lazybind.Dispatch object at 0x000002007D395580>, False], 8: [<comtypes.client.lazybind.Dispatch object at 0x000002007D395EB0>, False], 9: [<comtypes.client.lazybind.Dispatch object at 0x000002007D395C40>, False], 10: [<comtypes.client.lazybind.Dispatch object at 0x000002007D3956D0>, False], 11: [<comtypes.client.lazybind.Dispatch object at 0x000002007D395340>, False], 12: [<comtypes.client.lazybind.Dispatch object at 0x000002007D395370>, False], 13: [<comtypes.client.lazybind.Dispatch object at 0x000002007D3954C0>, False], 14: [<comtypes.client.lazybind.Dispatch object at 0x000002007D395460>, False], 15: [<comtypes.client.lazybind.Dispatch object at 0x000002007D395400>, False]}\n"
     ]
    }
   ],
   "source": [
    "# GLOBAL VAR\n",
    "list_dic_block = []\n",
    "def create_list_dic_block(doc):\n",
    "    global list_dic_block\n",
    "    blocks = doc.Blocks\n",
    "    dic = {}\n",
    "    for i in range(blocks.Count):\n",
    "        block = blocks[i]\n",
    "        try: \n",
    "            dic[i] = [block,False]   \n",
    "            list_dic_block.append(dic)\n",
    "        except Exception as ex:\n",
    "            pass \n",
    "    return list_dic_block\n",
    "\n",
    "create_list_dic_block(cad_doc)\n",
    "list_dic_block\n",
    "\n",
    "for d in list_dic_block:\n",
    "    print(d)"
   ]
  }
 ],
 "metadata": {
  "kernelspec": {
   "display_name": "Python 3",
   "language": "python",
   "name": "python3"
  },
  "language_info": {
   "codemirror_mode": {
    "name": "ipython",
    "version": 3
   },
   "file_extension": ".py",
   "mimetype": "text/x-python",
   "name": "python",
   "nbconvert_exporter": "python",
   "pygments_lexer": "ipython3",
   "version": "3.9.1"
  }
 },
 "nbformat": 4,
 "nbformat_minor": 5
}
