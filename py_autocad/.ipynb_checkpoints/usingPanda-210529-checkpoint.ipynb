{
 "cells": [
  {
   "cell_type": "code",
   "execution_count": 1,
   "id": "656c6fee-e6d0-43b8-9343-9662b5e0102a",
   "metadata": {},
   "outputs": [],
   "source": [
    "import pandas as pd\n",
    "import numpy as np\n",
    "import json, os"
   ]
  },
  {
   "cell_type": "code",
   "execution_count": 2,
   "id": "c469a38c-cc56-4343-a915-66370aa64fe3",
   "metadata": {},
   "outputs": [
    {
     "name": "stdin",
     "output_type": "stream",
     "text": [
      "Directory of Data files:  C:\\Users\\USER\\Documents\\GitHub\\cofico\\cofico\\FROM BIM MASTER TEMP 210412\\Python\\pyAutocad\\CAD DATA\n"
     ]
    }
   ],
   "source": [
    "dirPath = input(\"Directory of Data files: \")\n",
    "listDir = [dirPath+\"\\\\\"+dp for dp in os.listdir(dirPath) if \".txt\" in dp]"
   ]
  },
  {
   "cell_type": "markdown",
   "id": "334d8350-0a73-42d5-bfb7-1da798801d69",
   "metadata": {},
   "source": [
    "### 1. READ TXT + MERGE/CONCENTRATE DATAFRAME"
   ]
  },
  {
   "cell_type": "code",
   "execution_count": 3,
   "id": "50176c37-f180-47a5-a73a-826b827015b3",
   "metadata": {},
   "outputs": [],
   "source": [
    "# for dp in listDir:\n",
    "# dp = listDir[0]\n",
    "data = pd.concat([pd.read_csv(dp, delimiter = \"\\t\") for dp in listDir])\n",
    "# data.info()"
   ]
  },
  {
   "cell_type": "markdown",
   "id": "074e1f93-8be7-40be-8e8e-87e290109fb4",
   "metadata": {},
   "source": [
    "### 2. SELECT COLUMN BECOME INDEX COLUMN"
   ]
  },
  {
   "cell_type": "code",
   "execution_count": 4,
   "id": "92607402-afc6-4681-a1e3-dbe68b0568b8",
   "metadata": {},
   "outputs": [
    {
     "name": "stdin",
     "output_type": "stream",
     "text": [
      " Column Name for New Data **Index**: Value\n"
     ]
    }
   ],
   "source": [
    "columnName = input(\" Column Name for New Data **Index**:\")"
   ]
  },
  {
   "cell_type": "markdown",
   "id": "0236cb99-af67-4751-9980-141899609c95",
   "metadata": {},
   "source": [
    "### 3. SORT BY VALUE + REMOVE DUPLICATE"
   ]
  },
  {
   "cell_type": "code",
   "execution_count": 10,
   "id": "0b8204c2-c7c9-4311-9b03-4124c0c41f76",
   "metadata": {},
   "outputs": [
    {
     "name": "stdout",
     "output_type": "stream",
     "text": [
      "REVOVED  0  DUPLICATE at *** Value *** COLUMN\n"
     ]
    }
   ],
   "source": [
    "# indexColumn = data[columnName]\n",
    "data.sort_values(by=columnName,inplace = True,ascending = True)\n",
    "data.dropna(subset=[columnName], inplace = True)\n",
    "count1 = data.shape[0]\n",
    "data.drop_duplicates(subset = [columnName],inplace = True)\n",
    "count2 = data.shape[0]\n",
    "print(\"REVOVED \",count1-count2,\" DUPLICATE at ***\",columnName,\"*** COLUMN\")\n",
    "\n",
    "def cleanData():\n",
    "    pass"
   ]
  },
  {
   "cell_type": "markdown",
   "id": "1cc683ec-45b2-4d28-b646-f1b05b1d6636",
   "metadata": {
    "tags": []
   },
   "source": [
    "### 4. FILTER DATA - by START WITH"
   ]
  },
  {
   "cell_type": "code",
   "execution_count": 14,
   "id": "62532232-3daa-4f96-9b5b-1bc685126113",
   "metadata": {
    "tags": []
   },
   "outputs": [
    {
     "name": "stdin",
     "output_type": "stream",
     "text": [
      "Fitered Values : VH CH DH\n"
     ]
    },
    {
     "data": {
      "text/plain": [
       "['VH', 'CH', 'DH']"
      ]
     },
     "execution_count": 14,
     "metadata": {},
     "output_type": "execute_result"
    }
   ],
   "source": [
    "filterValues = input(\"Fitered Values :\")\n",
    "\n",
    "listFilterValues = filterValues.split()\n",
    "listFilterValues"
   ]
  },
  {
   "cell_type": "code",
   "execution_count": 14,
   "id": "7f42630e-ad4a-4330-9710-9c70ccb3a611",
   "metadata": {
    "tags": []
   },
   "outputs": [
    {
     "name": "stdin",
     "output_type": "stream",
     "text": [
      "Fitered Values : VH CH DH\n"
     ]
    },
    {
     "data": {
      "text/plain": [
       "['VH', 'CH', 'DH']"
      ]
     },
     "execution_count": 14,
     "metadata": {},
     "output_type": "execute_result"
    }
   ],
   "source": [
    "for sw in listFilterValues:\n",
    "    data[columnName]"
   ]
  },
  {
   "cell_type": "markdown",
   "id": "e013ec3a-a91b-4f56-8b6d-3cbcada4a26b",
   "metadata": {},
   "source": [
    "### 5. CREATE NEW DATAFRAME"
   ]
  },
  {
   "cell_type": "markdown",
   "id": "7aefa2ec-6db2-4a2a-8487-fa1b9bf0e573",
   "metadata": {
    "tags": []
   },
   "source": [
    "### 6.PLOT + EXPORT EXTERNAL DATA"
   ]
  },
  {
   "cell_type": "code",
   "execution_count": 7,
   "id": "9242c8ea-50af-4ee5-9c53-15ff957015ab",
   "metadata": {
    "tags": []
   },
   "outputs": [],
   "source": [
    "# data.plot(kind = 'scatter', x = 'Position X', y = 'Position Y')"
   ]
  },
  {
   "cell_type": "markdown",
   "id": "a1d6cd6c-3859-4fe0-b2fb-6d6540b09615",
   "metadata": {},
   "source": [
    "### 7. FIND NEAREST DATA TO REVIT MODEL ELEMENT DATA"
   ]
  },
  {
   "cell_type": "markdown",
   "id": "10a2398e-9b84-4cfb-8f0a-56a783b24d3a",
   "metadata": {},
   "source": [
    "### "
   ]
  },
  {
   "cell_type": "code",
   "execution_count": null,
   "id": "9b107381-38e3-4b79-9f10-17aa8c7ade68",
   "metadata": {},
   "outputs": [],
   "source": []
  }
 ],
 "metadata": {
  "kernelspec": {
   "display_name": "Python 3",
   "language": "python",
   "name": "python3"
  },
  "language_info": {
   "codemirror_mode": {
    "name": "ipython",
    "version": 3
   },
   "file_extension": ".py",
   "mimetype": "text/x-python",
   "name": "python",
   "nbconvert_exporter": "python",
   "pygments_lexer": "ipython3",
   "version": "3.9.1"
  }
 },
 "nbformat": 4,
 "nbformat_minor": 5
}
