{
 "cells": [
  {
   "cell_type": "code",
   "execution_count": 1,
   "id": "423a9dec-e87e-4232-afbd-92ad5ae876a3",
   "metadata": {
    "jupyter": {
     "source_hidden": true
    },
    "tags": []
   },
   "outputs": [],
   "source": [
    "import pyautocad, _lib\n",
    "from pyautocad import *\n",
    "from _lib import *\n",
    "import comtypes.client\n",
    "import time"
   ]
  },
  {
   "cell_type": "markdown",
   "id": "682559e2-f711-490a-90d1-a4401845a9aa",
   "metadata": {
    "tags": []
   },
   "source": [
    "# INPUT: AUTOCAD FILE NAME"
   ]
  },
  {
   "cell_type": "code",
   "execution_count": 2,
   "id": "17342df4-3c49-4921-aa66-22dbe4a30076",
   "metadata": {
    "jupyter": {
     "source_hidden": true
    },
    "tags": []
   },
   "outputs": [],
   "source": [
    "# cadExtr = cadExtractor()\n",
    "# path = cadExtr.fileName #\n",
    "path = r'C:\\Users\\USER\\Documents\\GitHub\\cofico\\cofico\\FROM BIM MASTER TEMP 210412\\Python\\pyAutocad\\CAD DATA\\TestBlockText.dwg'"
   ]
  },
  {
   "cell_type": "code",
   "execution_count": 6,
   "id": "7644e187-f927-4342-9b97-3afd1c99c3dd",
   "metadata": {
    "tags": []
   },
   "outputs": [
    {
     "data": {
      "text/plain": [
       "<pyautocad.api.Autocad at 0x1dbe45b87f0>"
      ]
     },
     "execution_count": 6,
     "metadata": {},
     "output_type": "execute_result"
    }
   ],
   "source": [
    "acad = openCADFile(path)\n",
    "acad"
   ]
  },
  {
   "cell_type": "code",
   "execution_count": 60,
   "id": "1da5dd34-6438-4a05-a765-860694d9610f",
   "metadata": {},
   "outputs": [
    {
     "name": "stdout",
     "output_type": "stream",
     "text": [
      "Select objects\n"
     ]
    },
    {
     "data": {
      "text/plain": [
       "'SS1'"
      ]
     },
     "execution_count": 60,
     "metadata": {},
     "output_type": "execute_result"
    }
   ],
   "source": [
    "doc=acad.ActiveDocument\n",
    "ms=doc.ModelSpace\n",
    "count = ms.count\n",
    "# items = []\n",
    "# for i in range(count):\n",
    "#     item = ms.Item(i)\n",
    "#     items.append(item)\n",
    "#     print(item.ObjectId)\n",
    "# blocks = doc.Blocks\n",
    "# for block in blocks:\n",
    "#     print(block.Name)\n",
    "    \n",
    "# acad.iter_objects(['Block'])\n",
    "\n",
    "obj = acad.get_selection(text='Select objects')\n",
    "dir(obj)"
   ]
  },
  {
   "cell_type": "code",
   "execution_count": 54,
   "id": "c8c8f7ff-5714-48b6-9697-b57373dcce95",
   "metadata": {},
   "outputs": [
    {
     "name": "stdout",
     "output_type": "stream",
     "text": [
      "AcDbBlockReference\n",
      "AcDbBlockReference\n",
      "AcDbBlockReference\n",
      "AcDbBlockReference\n",
      "AcDbBlockReference\n"
     ]
    },
    {
     "data": {
      "text/plain": [
       "['QueryInterface',\n",
       " '_Dispatch__bind',\n",
       " '__call__',\n",
       " '__class__',\n",
       " '__cmp__',\n",
       " '__delattr__',\n",
       " '__dict__',\n",
       " '__dir__',\n",
       " '__doc__',\n",
       " '__eq__',\n",
       " '__format__',\n",
       " '__ge__',\n",
       " '__getattr__',\n",
       " '__getattribute__',\n",
       " '__getitem__',\n",
       " '__gt__',\n",
       " '__hash__',\n",
       " '__init__',\n",
       " '__init_subclass__',\n",
       " '__iter__',\n",
       " '__le__',\n",
       " '__lt__',\n",
       " '__module__',\n",
       " '__ne__',\n",
       " '__new__',\n",
       " '__reduce__',\n",
       " '__reduce_ex__',\n",
       " '__repr__',\n",
       " '__setattr__',\n",
       " '__setitem__',\n",
       " '__sizeof__',\n",
       " '__str__',\n",
       " '__subclasshook__',\n",
       " '__weakref__',\n",
       " '_comobj',\n",
       " '_tcomp',\n",
       " '_tdesc',\n",
       " '_tinfo']"
      ]
     },
     "execution_count": 54,
     "metadata": {},
     "output_type": "execute_result"
    }
   ],
   "source": [
    "blocks = []\n",
    "for obj in acad.iter_objects_fast('Block'):\n",
    "    try:\n",
    "        name = obj.EntityName\n",
    "        print(name)\n",
    "        if name == 'AcDbBlockReference':\n",
    "            blocks.append(obj)\n",
    "            HasAttributes = obj.HasAttributes\n",
    "            if HasAttributes:\n",
    "                for attrib in obj.GetAttributes():\n",
    "                    print(\"  {}: {}\".format(attrib.TagString, attrib.TextString))\n",
    "    except Exception as ex:\n",
    "        print(ex)\n",
    "        pass\n",
    "    \n",
    "dir(blocks[1])"
   ]
  },
  {
   "cell_type": "code",
   "execution_count": 13,
   "id": "4c285f9e-8edd-468a-9d9c-30c8a08fa8a3",
   "metadata": {
    "tags": []
   },
   "outputs": [],
   "source": [
    "res = []\n",
    "for obj in acad.iter_objects_fast('Text'):\n",
    "    res.append( obj)\n",
    "    print (obj.TextString)\n",
    "    try:\n",
    "        obj.Alignment = 0\n",
    "#         print(obj.TextAlignmentPoint,obj.InsertionPoint)\n",
    "    except Exception as ex:\n",
    "        print(ex)"
   ]
  },
  {
   "cell_type": "code",
   "execution_count": 13,
   "id": "f49354f6-e38e-42e9-8862-3706fad3de91",
   "metadata": {
    "tags": []
   },
   "outputs": [],
   "source": [
    "res = []\n",
    "for obj in acad.iter_objects_fast('Text'):\n",
    "    res.append( obj)\n",
    "    print (obj.TextString)\n",
    "    try:\n",
    "        obj.Alignment = 0\n",
    "#         print(obj.TextAlignmentPoint,obj.InsertionPoint)\n",
    "    except Exception as ex:\n",
    "        print(ex)"
   ]
  },
  {
   "cell_type": "code",
   "execution_count": null,
   "id": "fd68cacb-a9c9-4c53-bf90-87b523530cc3",
   "metadata": {},
   "outputs": [],
   "source": []
  },
  {
   "cell_type": "code",
   "execution_count": null,
   "id": "b64fe1a4-b70c-4f4c-a427-5774eb1ee343",
   "metadata": {},
   "outputs": [],
   "source": []
  },
  {
   "cell_type": "code",
   "execution_count": null,
   "id": "59a1af8e-3326-4b86-a121-5d58161962cd",
   "metadata": {},
   "outputs": [],
   "source": [
    "for doc in acad.Documents:\n",
    "    print (doc.Name)"
   ]
  },
  {
   "cell_type": "code",
   "execution_count": null,
   "id": "0a5bdbb5-8374-427a-b3c0-35e10e96afff",
   "metadata": {},
   "outputs": [],
   "source": [
    "dir(acad.GetAcadState())"
   ]
  },
  {
   "cell_type": "code",
   "execution_count": null,
   "id": "08d18dd3-16e5-4c0c-babf-cea1e989b77d",
   "metadata": {},
   "outputs": [],
   "source": []
  }
 ],
 "metadata": {
  "kernelspec": {
   "display_name": "Python 3",
   "language": "python",
   "name": "python3"
  },
  "language_info": {
   "codemirror_mode": {
    "name": "ipython",
    "version": 3
   },
   "file_extension": ".py",
   "mimetype": "text/x-python",
   "name": "python",
   "nbconvert_exporter": "python",
   "pygments_lexer": "ipython3",
   "version": "3.9.1"
  }
 },
 "nbformat": 4,
 "nbformat_minor": 5
}
